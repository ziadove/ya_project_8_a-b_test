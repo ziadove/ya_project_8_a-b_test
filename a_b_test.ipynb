{
 "cells": [
  {
   "cell_type": "markdown",
   "metadata": {},
   "source": [
    "# Описание проекта"
   ]
  },
  {
   "cell_type": "markdown",
   "metadata": {},
   "source": [
    "Вы — аналитик крупного интернет-магазина. Вместе с отделом маркетинга вы подготовили список гипотез для увеличения выручки.\n",
    "Приоритизируйте гипотезы, запустите A/B-тест и проанализируйте результаты. "
   ]
  },
  {
   "cell_type": "markdown",
   "metadata": {},
   "source": [
    "# Описание данных"
   ]
  },
  {
   "cell_type": "markdown",
   "metadata": {},
   "source": [
    "<b>Данные для первой части</b>\n",
    "\n",
    "Файл '/datasets/hypothesis.csv':\n",
    "- Hypothesis — краткое описание гипотезы;\n",
    "- Reach — охват пользователей по 10-балльной шкале;\n",
    "- Impact — влияние на пользователей по 10-балльной шкале;\n",
    "- Confidence — уверенность в гипотезе по 10-балльной шкале;\n",
    "- Efforts — затраты ресурсов на проверку гипотезы по 10-балльной шкале. Чем больше значение Efforts, тем дороже проверка гипотезы."
   ]
  },
  {
   "cell_type": "markdown",
   "metadata": {},
   "source": [
    "<b>Данные для второй части</b>\n",
    "\n",
    "Файл '/datasets/orders.csv':\n",
    "- transactionId — идентификатор заказа;\n",
    "- visitorId — идентификатор пользователя, совершившего заказ;\n",
    "- date — дата, когда был совершён заказ;\n",
    "- revenue — выручка заказа;\n",
    "- group — группа A/B-теста, в которую попал заказ.\n",
    "\n",
    "Файл '/datasets/visitors.csv':\n",
    "- date — дата;\n",
    "- group — группа A/B-теста;\n",
    "- visitors — количество пользователей в указанную дату в указанной группе A/B-теста"
   ]
  },
  {
   "cell_type": "markdown",
   "metadata": {},
   "source": [
    "# Ход работы:\n",
    "\n",
    "[1. Импорт библиотек, загрузка датасетов](#import)\n",
    "\n",
    "[2. Приоритизация гипотез:](#priority)\n",
    "- [2.1. фреймворк ICE](#ice)\n",
    "- [2.2. фреймворк RICE](#rice)\n",
    "- [2.3. вывод](#conclusion_1)\n",
    "\n",
    "[3. Анализ A/B теста](#analysis)\n",
    "\n",
    "[3.1. Расчет кумулятивных значений:](#cumulative)\n",
    "- график кумулятивной выручки по группам;\n",
    "- график кумулятивного среднего чека по группам;\n",
    "- график относительного изменения кумулятивного среднего чека группы B к группе A;\n",
    "- график кумулятивного среднего количества заказов на посетителя по группам;\n",
    "- график относительного изменения кумулятивного среднего количества заказов на посетителя группы B к группе A;\n",
    "\n",
    "\n",
    "[3.2. Точечная оценка и перцентили:](#scatter_and_perc)\n",
    "- точечный график количества заказов по пользователям;\n",
    "- 95-й и 99-й перцентили количества заказов на пользователя;\n",
    "- точечный график стоимостей заказов;\n",
    "- 95-й и 99-й перцентили стоимости заказов;\n",
    "- [вывод](#conclusion_3)\n",
    "\n",
    "[3.3. Статистическая значимость различий:](#stat_sign)\n",
    "- [3.3.1. проверка гипотезы № 1 - статистически значимых различий в среднем количестве заказов между группами нет](#hypotesis_1)\n",
    "- [3.3.2. посчитаем стат. значимость по \"сырым\" данным](#raw_1)\n",
    "- [3.3.3. посчитаем стат. значимость по \"очищенным\" данным](#clear_1)\n",
    "- [вывод (гипотеза № 1);](conclusion_4)\n",
    "\n",
    "- [3.3.4. проверка гипотезы № 2 - статистически значимых различий в среднем чеке заказа между группами нет:](#hypotesis_2)\n",
    "- [3.3.5. посчитаем стат. значимость по \"сырым\" данным](#raw_2)\n",
    "- [3.3.6. посчитаем стат. значимость по \"очищенным\" данным](#clear_2)\n",
    "- [вывод (гипотеза № 2)](conclusion_5)\n",
    "\n",
    "[Общий вывод](#conclusion_6)\n",
    "\n",
    "[Решение](#decision)"
   ]
  },
  {
   "cell_type": "markdown",
   "metadata": {},
   "source": [
    "<a id=\"import\"> </a>\n",
    "# 1. Импорт библиотек, загрузка датасетов"
   ]
  },
  {
   "cell_type": "code",
   "execution_count": 8,
   "metadata": {},
   "outputs": [],
   "source": [
    "# импортируем библиотеки\n",
    "\n",
    "import pandas as pd\n",
    "import numpy as np\n",
    "from scipy import stats as st\n",
    "import datetime as dt\n",
    "\n",
    "import matplotlib.pyplot as plt"
   ]
  },
  {
   "cell_type": "code",
   "execution_count": 9,
   "metadata": {},
   "outputs": [],
   "source": [
    "# загружаем датасеты\n",
    "\n",
    "hypothesis = pd.read_csv('/datasets/hypothesis.csv')\n",
    "orders = pd.read_csv('/datasets/orders.csv')\n",
    "visitors = pd.read_csv('/datasets/visitors.csv')"
   ]
  },
  {
   "cell_type": "code",
   "execution_count": 10,
   "metadata": {},
   "outputs": [
    {
     "name": "stdout",
     "output_type": "stream",
     "text": [
      "<class 'pandas.core.frame.DataFrame'>\n",
      "RangeIndex: 9 entries, 0 to 8\n",
      "Data columns (total 5 columns):\n",
      " #   Column      Non-Null Count  Dtype \n",
      "---  ------      --------------  ----- \n",
      " 0   Hypothesis  9 non-null      object\n",
      " 1   Reach       9 non-null      int64 \n",
      " 2   Impact      9 non-null      int64 \n",
      " 3   Confidence  9 non-null      int64 \n",
      " 4   Efforts     9 non-null      int64 \n",
      "dtypes: int64(4), object(1)\n",
      "memory usage: 488.0+ bytes\n"
     ]
    }
   ],
   "source": [
    "hypothesis.info()"
   ]
  },
  {
   "cell_type": "code",
   "execution_count": 11,
   "metadata": {},
   "outputs": [
    {
     "name": "stdout",
     "output_type": "stream",
     "text": [
      "<class 'pandas.core.frame.DataFrame'>\n",
      "RangeIndex: 1197 entries, 0 to 1196\n",
      "Data columns (total 5 columns):\n",
      " #   Column         Non-Null Count  Dtype \n",
      "---  ------         --------------  ----- \n",
      " 0   transactionId  1197 non-null   int64 \n",
      " 1   visitorId      1197 non-null   int64 \n",
      " 2   date           1197 non-null   object\n",
      " 3   revenue        1197 non-null   int64 \n",
      " 4   group          1197 non-null   object\n",
      "dtypes: int64(3), object(2)\n",
      "memory usage: 46.9+ KB\n"
     ]
    }
   ],
   "source": [
    "orders.info()"
   ]
  },
  {
   "cell_type": "code",
   "execution_count": 12,
   "metadata": {},
   "outputs": [
    {
     "name": "stdout",
     "output_type": "stream",
     "text": [
      "<class 'pandas.core.frame.DataFrame'>\n",
      "RangeIndex: 62 entries, 0 to 61\n",
      "Data columns (total 3 columns):\n",
      " #   Column    Non-Null Count  Dtype \n",
      "---  ------    --------------  ----- \n",
      " 0   date      62 non-null     object\n",
      " 1   group     62 non-null     object\n",
      " 2   visitors  62 non-null     int64 \n",
      "dtypes: int64(1), object(2)\n",
      "memory usage: 1.6+ KB\n"
     ]
    }
   ],
   "source": [
    "visitors.info()"
   ]
  },
  {
   "cell_type": "markdown",
   "metadata": {},
   "source": [
    "Для исследования нам доступно три датасета - hypothesis, orders и visitors.\n",
    "\n",
    "Датафрейм hypothesis - 9 строк, 5 колонок, пропущенных значений - нет. Необходимо изменить стиль написания названий столбцов (с маленькой буквы).\n",
    "\n",
    "Датафрейм orders - 1197 строк, 5 колонок, пропущенных значений - нет. Необходимо изменить стиль написания названий столбцов  'transaction Id' и 'visitor Id' (snake case вместо camel case).\n",
    "\n",
    "Датафрейм visitors - 62 строки, 3 колонки, пропущенных значений - нет.\n",
    "\n",
    "В дальнейшем в столбцах 'date' в датафреймах 'orders' и 'visitors' необходимо изменить тип данных."
   ]
  },
  {
   "cell_type": "markdown",
   "metadata": {},
   "source": [
    "<a id=\"priority\"> </a>\n",
    "# 2. Приоритизация гипотез."
   ]
  },
  {
   "cell_type": "markdown",
   "metadata": {},
   "source": [
    "В датасете 'hypothesis' 9 гипотез по увеличению выручки интернет-магазина с указанными параметрами Reach, Impact, Confidence, Effort."
   ]
  },
  {
   "cell_type": "code",
   "execution_count": 13,
   "metadata": {},
   "outputs": [
    {
     "data": {
      "text/html": [
       "<div>\n",
       "<style scoped>\n",
       "    .dataframe tbody tr th:only-of-type {\n",
       "        vertical-align: middle;\n",
       "    }\n",
       "\n",
       "    .dataframe tbody tr th {\n",
       "        vertical-align: top;\n",
       "    }\n",
       "\n",
       "    .dataframe thead th {\n",
       "        text-align: right;\n",
       "    }\n",
       "</style>\n",
       "<table border=\"1\" class=\"dataframe\">\n",
       "  <thead>\n",
       "    <tr style=\"text-align: right;\">\n",
       "      <th></th>\n",
       "      <th>Hypothesis</th>\n",
       "      <th>Reach</th>\n",
       "      <th>Impact</th>\n",
       "      <th>Confidence</th>\n",
       "      <th>Efforts</th>\n",
       "    </tr>\n",
       "  </thead>\n",
       "  <tbody>\n",
       "    <tr>\n",
       "      <th>0</th>\n",
       "      <td>Добавить два новых канала привлечения трафика, что позволит привлекать на 30% больше пользователей</td>\n",
       "      <td>3</td>\n",
       "      <td>10</td>\n",
       "      <td>8</td>\n",
       "      <td>6</td>\n",
       "    </tr>\n",
       "    <tr>\n",
       "      <th>1</th>\n",
       "      <td>Запустить собственную службу доставки, что сократит срок доставки заказов</td>\n",
       "      <td>2</td>\n",
       "      <td>5</td>\n",
       "      <td>4</td>\n",
       "      <td>10</td>\n",
       "    </tr>\n",
       "    <tr>\n",
       "      <th>2</th>\n",
       "      <td>Добавить блоки рекомендаций товаров на сайт интернет магазина, чтобы повысить конверсию и средний чек заказа</td>\n",
       "      <td>8</td>\n",
       "      <td>3</td>\n",
       "      <td>7</td>\n",
       "      <td>3</td>\n",
       "    </tr>\n",
       "    <tr>\n",
       "      <th>3</th>\n",
       "      <td>Изменить структура категорий, что увеличит конверсию, т.к. пользователи быстрее найдут нужный товар</td>\n",
       "      <td>8</td>\n",
       "      <td>3</td>\n",
       "      <td>3</td>\n",
       "      <td>8</td>\n",
       "    </tr>\n",
       "    <tr>\n",
       "      <th>4</th>\n",
       "      <td>Изменить цвет фона главной страницы, чтобы увеличить вовлеченность пользователей</td>\n",
       "      <td>3</td>\n",
       "      <td>1</td>\n",
       "      <td>1</td>\n",
       "      <td>1</td>\n",
       "    </tr>\n",
       "    <tr>\n",
       "      <th>5</th>\n",
       "      <td>Добавить страницу отзывов клиентов о магазине, что позволит увеличить количество заказов</td>\n",
       "      <td>3</td>\n",
       "      <td>2</td>\n",
       "      <td>2</td>\n",
       "      <td>3</td>\n",
       "    </tr>\n",
       "    <tr>\n",
       "      <th>6</th>\n",
       "      <td>Показать на главной странице баннеры с актуальными акциями и распродажами, чтобы увеличить конверсию</td>\n",
       "      <td>5</td>\n",
       "      <td>3</td>\n",
       "      <td>8</td>\n",
       "      <td>3</td>\n",
       "    </tr>\n",
       "    <tr>\n",
       "      <th>7</th>\n",
       "      <td>Добавить форму подписки на все основные страницы, чтобы собрать базу клиентов для email-рассылок</td>\n",
       "      <td>10</td>\n",
       "      <td>7</td>\n",
       "      <td>8</td>\n",
       "      <td>5</td>\n",
       "    </tr>\n",
       "    <tr>\n",
       "      <th>8</th>\n",
       "      <td>Запустить акцию, дающую скидку на товар в день рождения</td>\n",
       "      <td>1</td>\n",
       "      <td>9</td>\n",
       "      <td>9</td>\n",
       "      <td>5</td>\n",
       "    </tr>\n",
       "  </tbody>\n",
       "</table>\n",
       "</div>"
      ],
      "text/plain": [
       "                                                                                                     Hypothesis  \\\n",
       "0            Добавить два новых канала привлечения трафика, что позволит привлекать на 30% больше пользователей   \n",
       "1                                     Запустить собственную службу доставки, что сократит срок доставки заказов   \n",
       "2  Добавить блоки рекомендаций товаров на сайт интернет магазина, чтобы повысить конверсию и средний чек заказа   \n",
       "3           Изменить структура категорий, что увеличит конверсию, т.к. пользователи быстрее найдут нужный товар   \n",
       "4                              Изменить цвет фона главной страницы, чтобы увеличить вовлеченность пользователей   \n",
       "5                      Добавить страницу отзывов клиентов о магазине, что позволит увеличить количество заказов   \n",
       "6          Показать на главной странице баннеры с актуальными акциями и распродажами, чтобы увеличить конверсию   \n",
       "7              Добавить форму подписки на все основные страницы, чтобы собрать базу клиентов для email-рассылок   \n",
       "8                                                       Запустить акцию, дающую скидку на товар в день рождения   \n",
       "\n",
       "   Reach  Impact  Confidence  Efforts  \n",
       "0      3      10           8        6  \n",
       "1      2       5           4       10  \n",
       "2      8       3           7        3  \n",
       "3      8       3           3        8  \n",
       "4      3       1           1        1  \n",
       "5      3       2           2        3  \n",
       "6      5       3           8        3  \n",
       "7     10       7           8        5  \n",
       "8      1       9           9        5  "
      ]
     },
     "execution_count": 13,
     "metadata": {},
     "output_type": "execute_result"
    }
   ],
   "source": [
    "pd.options.display.max_colwidth = 130\n",
    "hypothesis"
   ]
  },
  {
   "cell_type": "code",
   "execution_count": 14,
   "metadata": {},
   "outputs": [],
   "source": [
    "hypothesis.columns = [x.lower() for x in hypothesis.columns]"
   ]
  },
  {
   "cell_type": "code",
   "execution_count": 15,
   "metadata": {},
   "outputs": [
    {
     "data": {
      "text/plain": [
       "[[0,\n",
       "  'Добавить два новых канала привлечения трафика, что позволит привлекать на 30% больше пользователей'],\n",
       " [1,\n",
       "  'Запустить собственную службу доставки, что сократит срок доставки заказов'],\n",
       " [2,\n",
       "  'Добавить блоки рекомендаций товаров на сайт интернет магазина, чтобы повысить конверсию и средний чек заказа'],\n",
       " [3,\n",
       "  'Изменить структура категорий, что увеличит конверсию, т.к. пользователи быстрее найдут нужный товар'],\n",
       " [4,\n",
       "  'Изменить цвет фона главной страницы, чтобы увеличить вовлеченность пользователей'],\n",
       " [5,\n",
       "  'Добавить страницу отзывов клиентов о магазине, что позволит увеличить количество заказов'],\n",
       " [6,\n",
       "  'Показать на главной странице баннеры с актуальными акциями и распродажами, чтобы увеличить конверсию'],\n",
       " [7,\n",
       "  'Добавить форму подписки на все основные страницы, чтобы собрать базу клиентов для email-рассылок'],\n",
       " [8, 'Запустить акцию, дающую скидку на товар в день рождения']]"
      ]
     },
     "execution_count": 15,
     "metadata": {},
     "output_type": "execute_result"
    }
   ],
   "source": [
    "# выделим список гипотез с номерами для удобства\n",
    "\n",
    "h_list = [[hypothesis.index[i], hypothesis['hypothesis'][i]] for i in range(0, len(hypothesis))]\n",
    "h_list"
   ]
  },
  {
   "cell_type": "markdown",
   "metadata": {},
   "source": [
    "<a id=\"ice\"> </a>\n",
    "# 2.1. Фреймворк ICE"
   ]
  },
  {
   "cell_type": "markdown",
   "metadata": {},
   "source": [
    "<img src='https://pictures.s3.yandex.net/resources/ice_score_2-27da3b9e-15cd-4f96-91a4-fefffd1d986e_1569198107.jpg' width=320, heigth=240>\n"
   ]
  },
  {
   "cell_type": "code",
   "execution_count": 16,
   "metadata": {},
   "outputs": [
    {
     "data": {
      "text/html": [
       "<div>\n",
       "<style scoped>\n",
       "    .dataframe tbody tr th:only-of-type {\n",
       "        vertical-align: middle;\n",
       "    }\n",
       "\n",
       "    .dataframe tbody tr th {\n",
       "        vertical-align: top;\n",
       "    }\n",
       "\n",
       "    .dataframe thead th {\n",
       "        text-align: right;\n",
       "    }\n",
       "</style>\n",
       "<table border=\"1\" class=\"dataframe\">\n",
       "  <thead>\n",
       "    <tr style=\"text-align: right;\">\n",
       "      <th></th>\n",
       "      <th>hypothesis</th>\n",
       "      <th>reach</th>\n",
       "      <th>impact</th>\n",
       "      <th>confidence</th>\n",
       "      <th>efforts</th>\n",
       "      <th>ice</th>\n",
       "    </tr>\n",
       "  </thead>\n",
       "  <tbody>\n",
       "    <tr>\n",
       "      <th>8</th>\n",
       "      <td>Запустить акцию, дающую скидку на товар в день рождения</td>\n",
       "      <td>1</td>\n",
       "      <td>9</td>\n",
       "      <td>9</td>\n",
       "      <td>5</td>\n",
       "      <td>16.20</td>\n",
       "    </tr>\n",
       "    <tr>\n",
       "      <th>0</th>\n",
       "      <td>Добавить два новых канала привлечения трафика, что позволит привлекать на 30% больше пользователей</td>\n",
       "      <td>3</td>\n",
       "      <td>10</td>\n",
       "      <td>8</td>\n",
       "      <td>6</td>\n",
       "      <td>13.33</td>\n",
       "    </tr>\n",
       "    <tr>\n",
       "      <th>7</th>\n",
       "      <td>Добавить форму подписки на все основные страницы, чтобы собрать базу клиентов для email-рассылок</td>\n",
       "      <td>10</td>\n",
       "      <td>7</td>\n",
       "      <td>8</td>\n",
       "      <td>5</td>\n",
       "      <td>11.20</td>\n",
       "    </tr>\n",
       "  </tbody>\n",
       "</table>\n",
       "</div>"
      ],
      "text/plain": [
       "                                                                                           hypothesis  \\\n",
       "8                                             Запустить акцию, дающую скидку на товар в день рождения   \n",
       "0  Добавить два новых канала привлечения трафика, что позволит привлекать на 30% больше пользователей   \n",
       "7    Добавить форму подписки на все основные страницы, чтобы собрать базу клиентов для email-рассылок   \n",
       "\n",
       "   reach  impact  confidence  efforts    ice  \n",
       "8      1       9           9        5  16.20  \n",
       "0      3      10           8        6  13.33  \n",
       "7     10       7           8        5  11.20  "
      ]
     },
     "execution_count": 16,
     "metadata": {},
     "output_type": "execute_result"
    }
   ],
   "source": [
    "hypothesis['ice'] = round((hypothesis['impact'] * hypothesis['confidence']) / hypothesis['efforts'], 2)\n",
    "hypothesis.sort_values(by='ice', ascending=False).head(3)"
   ]
  },
  {
   "cell_type": "markdown",
   "metadata": {},
   "source": [
    "<a id=\"rice\"> </a>\n",
    "# 2.2. Фреймворк RICE"
   ]
  },
  {
   "cell_type": "markdown",
   "metadata": {},
   "source": [
    "<img src='https://pictures.s3.yandex.net/resources/rice_score_1634305501.png' width=320, heigth=240>"
   ]
  },
  {
   "cell_type": "code",
   "execution_count": 17,
   "metadata": {},
   "outputs": [
    {
     "data": {
      "text/html": [
       "<div>\n",
       "<style scoped>\n",
       "    .dataframe tbody tr th:only-of-type {\n",
       "        vertical-align: middle;\n",
       "    }\n",
       "\n",
       "    .dataframe tbody tr th {\n",
       "        vertical-align: top;\n",
       "    }\n",
       "\n",
       "    .dataframe thead th {\n",
       "        text-align: right;\n",
       "    }\n",
       "</style>\n",
       "<table border=\"1\" class=\"dataframe\">\n",
       "  <thead>\n",
       "    <tr style=\"text-align: right;\">\n",
       "      <th></th>\n",
       "      <th>hypothesis</th>\n",
       "      <th>reach</th>\n",
       "      <th>impact</th>\n",
       "      <th>confidence</th>\n",
       "      <th>efforts</th>\n",
       "      <th>ice</th>\n",
       "      <th>rice</th>\n",
       "    </tr>\n",
       "  </thead>\n",
       "  <tbody>\n",
       "    <tr>\n",
       "      <th>7</th>\n",
       "      <td>Добавить форму подписки на все основные страницы, чтобы собрать базу клиентов для email-рассылок</td>\n",
       "      <td>10</td>\n",
       "      <td>7</td>\n",
       "      <td>8</td>\n",
       "      <td>5</td>\n",
       "      <td>11.20</td>\n",
       "      <td>112.0</td>\n",
       "    </tr>\n",
       "    <tr>\n",
       "      <th>2</th>\n",
       "      <td>Добавить блоки рекомендаций товаров на сайт интернет магазина, чтобы повысить конверсию и средний чек заказа</td>\n",
       "      <td>8</td>\n",
       "      <td>3</td>\n",
       "      <td>7</td>\n",
       "      <td>3</td>\n",
       "      <td>7.00</td>\n",
       "      <td>56.0</td>\n",
       "    </tr>\n",
       "    <tr>\n",
       "      <th>0</th>\n",
       "      <td>Добавить два новых канала привлечения трафика, что позволит привлекать на 30% больше пользователей</td>\n",
       "      <td>3</td>\n",
       "      <td>10</td>\n",
       "      <td>8</td>\n",
       "      <td>6</td>\n",
       "      <td>13.33</td>\n",
       "      <td>40.0</td>\n",
       "    </tr>\n",
       "  </tbody>\n",
       "</table>\n",
       "</div>"
      ],
      "text/plain": [
       "                                                                                                     hypothesis  \\\n",
       "7              Добавить форму подписки на все основные страницы, чтобы собрать базу клиентов для email-рассылок   \n",
       "2  Добавить блоки рекомендаций товаров на сайт интернет магазина, чтобы повысить конверсию и средний чек заказа   \n",
       "0            Добавить два новых канала привлечения трафика, что позволит привлекать на 30% больше пользователей   \n",
       "\n",
       "   reach  impact  confidence  efforts    ice   rice  \n",
       "7     10       7           8        5  11.20  112.0  \n",
       "2      8       3           7        3   7.00   56.0  \n",
       "0      3      10           8        6  13.33   40.0  "
      ]
     },
     "execution_count": 17,
     "metadata": {},
     "output_type": "execute_result"
    }
   ],
   "source": [
    "hypothesis['rice'] = round((hypothesis['reach'] * hypothesis['impact'] * hypothesis['confidence']) / hypothesis['efforts'], 2)\n",
    "hypothesis.sort_values(by='rice', ascending=False).head(3)"
   ]
  },
  {
   "cell_type": "markdown",
   "metadata": {},
   "source": [
    "<a id=\"conclusion_1\"> </a>\n",
    "# 2.3. Вывод\n",
    "Приоритезировав гипотезы фреймворком ICE, мы выделили топ-3 гипотезы:\n",
    "- № 8 - 'Запустить акцию, дающую скидку на товар в день рождения' (ICE - 16.2);\n",
    "- № 0 - 'Добавить два новых канала привлечения трафика, что позволит привлекать на 30% больше пользователей' (ICE - 13.3),\n",
    "- № 7 - 'Добавить форму подписки на все основные страницы, чтобы собрать базу клиентов для email-рассылок' (ICE - 11.2).\n",
    "\n",
    "\n",
    "Воспользовавшись фрйемворком RICE, в топ-3 вышли гипотезы:\n",
    "- № 7 - 'Добавить форму подписки на все основные страницы, чтобы собрать базу клиентов для email-рассылок' (RICE - 112);\n",
    "- № 2 - 'Добавить блоки рекомендаций товаров на сайт интернет магазина, чтобы повысить конверсию и средний чек заказа' (RICE - 56.0);\n",
    "- № 0 - 'Добавить два новых канала привлечения трафика, что позволит привлекать на 30% больше пользователей' (RICE - 40.0).\n",
    "\n",
    "Разница приоритетов можно объяснить формулов расчета: отличие RICE от ICE в том, что при расчете RICE в знаменатель добавляют параметр Reach, показывающий охват пользователей при введение каких-либо изменений. Чем больше охват - тем выше RICE. Восьмая гипотеза, имеющая самое большое значение ICE, не вошла в топ RICE из-за слишком маленьких охватов. Это логично, т.к. гипотеза связана не со всеми пользователями, а только с теми, кто в ближайшие дни отмечает день рождения."
   ]
  },
  {
   "cell_type": "markdown",
   "metadata": {},
   "source": [
    "<a id=\"analysis\"> </a>\n",
    "# 3. Анализ A/B теста."
   ]
  },
  {
   "cell_type": "code",
   "execution_count": 73,
   "metadata": {},
   "outputs": [],
   "source": [
    "# изменим стиль написания названий столбцов 'transaction Id' и 'visitor Id' (snake case вместо camel case)\n",
    "\n",
    "orders.columns = ['transaction_id', 'visitor_id', 'date', 'revenue', 'group']"
   ]
  },
  {
   "cell_type": "code",
   "execution_count": 74,
   "metadata": {},
   "outputs": [],
   "source": [
    "# изменим тип данных\n",
    "\n",
    "orders['date'] = orders['date'].map(lambda x: dt.datetime.strptime(x, '%Y-%m-%d'))"
   ]
  },
  {
   "cell_type": "code",
   "execution_count": 75,
   "metadata": {},
   "outputs": [
    {
     "data": {
      "text/html": [
       "<div>\n",
       "<style scoped>\n",
       "    .dataframe tbody tr th:only-of-type {\n",
       "        vertical-align: middle;\n",
       "    }\n",
       "\n",
       "    .dataframe tbody tr th {\n",
       "        vertical-align: top;\n",
       "    }\n",
       "\n",
       "    .dataframe thead th {\n",
       "        text-align: right;\n",
       "    }\n",
       "</style>\n",
       "<table border=\"1\" class=\"dataframe\">\n",
       "  <thead>\n",
       "    <tr style=\"text-align: right;\">\n",
       "      <th></th>\n",
       "      <th>transaction_id</th>\n",
       "      <th>visitor_id</th>\n",
       "      <th>date</th>\n",
       "      <th>revenue</th>\n",
       "      <th>group</th>\n",
       "    </tr>\n",
       "  </thead>\n",
       "  <tbody>\n",
       "    <tr>\n",
       "      <th>0</th>\n",
       "      <td>3667963787</td>\n",
       "      <td>3312258926</td>\n",
       "      <td>2019-08-15</td>\n",
       "      <td>1650</td>\n",
       "      <td>B</td>\n",
       "    </tr>\n",
       "    <tr>\n",
       "      <th>1</th>\n",
       "      <td>2804400009</td>\n",
       "      <td>3642806036</td>\n",
       "      <td>2019-08-15</td>\n",
       "      <td>730</td>\n",
       "      <td>B</td>\n",
       "    </tr>\n",
       "    <tr>\n",
       "      <th>2</th>\n",
       "      <td>2961555356</td>\n",
       "      <td>4069496402</td>\n",
       "      <td>2019-08-15</td>\n",
       "      <td>400</td>\n",
       "      <td>A</td>\n",
       "    </tr>\n",
       "  </tbody>\n",
       "</table>\n",
       "</div>"
      ],
      "text/plain": [
       "   transaction_id  visitor_id       date  revenue group\n",
       "0      3667963787  3312258926 2019-08-15     1650     B\n",
       "1      2804400009  3642806036 2019-08-15      730     B\n",
       "2      2961555356  4069496402 2019-08-15      400     A"
      ]
     },
     "execution_count": 75,
     "metadata": {},
     "output_type": "execute_result"
    }
   ],
   "source": [
    "orders.head(3)"
   ]
  },
  {
   "cell_type": "code",
   "execution_count": 76,
   "metadata": {},
   "outputs": [],
   "source": [
    "# изменим тип данных\n",
    "\n",
    "visitors['date'] = visitors['date'].map(lambda x: dt.datetime.strptime(x, '%Y-%m-%d'))"
   ]
  },
  {
   "cell_type": "code",
   "execution_count": 77,
   "metadata": {},
   "outputs": [
    {
     "data": {
      "text/html": [
       "<div>\n",
       "<style scoped>\n",
       "    .dataframe tbody tr th:only-of-type {\n",
       "        vertical-align: middle;\n",
       "    }\n",
       "\n",
       "    .dataframe tbody tr th {\n",
       "        vertical-align: top;\n",
       "    }\n",
       "\n",
       "    .dataframe thead th {\n",
       "        text-align: right;\n",
       "    }\n",
       "</style>\n",
       "<table border=\"1\" class=\"dataframe\">\n",
       "  <thead>\n",
       "    <tr style=\"text-align: right;\">\n",
       "      <th></th>\n",
       "      <th>date</th>\n",
       "      <th>group</th>\n",
       "      <th>visitors</th>\n",
       "    </tr>\n",
       "  </thead>\n",
       "  <tbody>\n",
       "    <tr>\n",
       "      <th>0</th>\n",
       "      <td>2019-08-01</td>\n",
       "      <td>A</td>\n",
       "      <td>719</td>\n",
       "    </tr>\n",
       "    <tr>\n",
       "      <th>1</th>\n",
       "      <td>2019-08-02</td>\n",
       "      <td>A</td>\n",
       "      <td>619</td>\n",
       "    </tr>\n",
       "    <tr>\n",
       "      <th>2</th>\n",
       "      <td>2019-08-03</td>\n",
       "      <td>A</td>\n",
       "      <td>507</td>\n",
       "    </tr>\n",
       "  </tbody>\n",
       "</table>\n",
       "</div>"
      ],
      "text/plain": [
       "        date group  visitors\n",
       "0 2019-08-01     A       719\n",
       "1 2019-08-02     A       619\n",
       "2 2019-08-03     A       507"
      ]
     },
     "execution_count": 77,
     "metadata": {},
     "output_type": "execute_result"
    }
   ],
   "source": [
    "visitors.head(3)"
   ]
  },
  {
   "cell_type": "code",
   "execution_count": 23,
   "metadata": {},
   "outputs": [
    {
     "name": "stdout",
     "output_type": "stream",
     "text": [
      "0 0\n"
     ]
    }
   ],
   "source": [
    "# проверка на явные дубликаты\n",
    "\n",
    "print(visitors.duplicated().sum(), orders.duplicated().sum())\n",
    "\n",
    "visitors = visitors.drop_duplicates()\n",
    "orders = orders.drop_duplicates()"
   ]
  },
  {
   "cell_type": "code",
   "execution_count": 78,
   "metadata": {},
   "outputs": [
    {
     "name": "stdout",
     "output_type": "stream",
     "text": [
      "количество групп в A/B тесте: 2\n",
      "временной интервал A/B теста: 2019-08-01 00:00:00 - 2019-08-31 00:00:00\n"
     ]
    }
   ],
   "source": [
    "# общая информация об A/B тесте\n",
    "\n",
    "print(f\"количество групп в A/B тесте: {visitors['group'].nunique()}\")\n",
    "print(f\"временной интервал A/B теста: {visitors['date'].min()} - {visitors['date'].max()}\")"
   ]
  },
  {
   "cell_type": "code",
   "execution_count": 210,
   "metadata": {},
   "outputs": [
    {
     "data": {
      "image/png": "[encoded data removed]",
      "text/plain": [
       "<Figure size 864x360 with 1 Axes>"
      ]
     },
     "metadata": {
      "needs_background": "light"
     },
     "output_type": "display_data"
    }
   ],
   "source": [
    "# динамика посетителей по дням по группам \n",
    "\n",
    "group_a = pd.DataFrame(visitors[visitors['group']=='A'].groupby('date')['visitors'].sum()).reset_index()\n",
    "group_b = pd.DataFrame(visitors[visitors['group']=='B'].groupby('date')['visitors'].sum()).reset_index()\n",
    "\n",
    "group_a['day'] = group_a['date'].dt.day\n",
    "group_b['day'] = group_b['date'].dt.day\n",
    "\n",
    "plt.figure(figsize=(12,5))\n",
    "plt.plot(group_a['day'], group_a['visitors'], label='A')\n",
    "plt.plot(group_b['day'], group_b['visitors'], label='B')\n",
    "plt.axis([1, 31, 350, 800])\n",
    "plt.xlabel('дни эксперимента')\n",
    "plt.ylabel('количество пользователей')\n",
    "plt.legend(title='Динамика посетителей по дням по группам', loc='lower left', ncol = 2);"
   ]
  },
  {
   "cell_type": "code",
   "execution_count": 86,
   "metadata": {},
   "outputs": [
    {
     "data": {
      "text/plain": [
       "B    640\n",
       "A    557\n",
       "Name: group, dtype: int64"
      ]
     },
     "execution_count": 86,
     "metadata": {},
     "output_type": "execute_result"
    }
   ],
   "source": [
    "# количество пользователей в каждой группе \n",
    "\n",
    "orders['group'].value_counts()"
   ]
  },
  {
   "cell_type": "code",
   "execution_count": 87,
   "metadata": {},
   "outputs": [
    {
     "data": {
      "text/plain": [
       "B    0.53467\n",
       "A    0.46533\n",
       "Name: group, dtype: float64"
      ]
     },
     "execution_count": 87,
     "metadata": {},
     "output_type": "execute_result"
    }
   ],
   "source": [
    "# проверим соотношение выборок\n",
    "orders['group'].value_counts(normalize=True)"
   ]
  },
  {
   "cell_type": "code",
   "execution_count": 17,
   "metadata": {},
   "outputs": [
    {
     "data": {
      "text/plain": [
       "A    0.5\n",
       "B    0.5\n",
       "Name: group, dtype: float64"
      ]
     },
     "execution_count": 17,
     "metadata": {},
     "output_type": "execute_result"
    }
   ],
   "source": [
    "# проверим соотношение выборок\n",
    "\n",
    "visitors['group'].value_counts(normalize=True)"
   ]
  },
  {
   "cell_type": "markdown",
   "metadata": {},
   "source": [
    "Изучив процентное соотношение, мы видим что пользователи изначально делились на две группы по 50%, но группа В совершала больше покупок (53.5% против 45.5%)."
   ]
  },
  {
   "cell_type": "code",
   "execution_count": 194,
   "metadata": {},
   "outputs": [
    {
     "name": "stdout",
     "output_type": "stream",
     "text": [
      "количество пользователей, попавших в обе группы теста: 89\n"
     ]
    }
   ],
   "source": [
    "# проверка - попадают ли пользователи в обе группы теста\n",
    "# если да, то сколько\n",
    "# cоздадим таблицу для поиска двойников, найдем visitor_id таких пользователей\n",
    "\n",
    "d = orders.copy()\n",
    "d['double'] = orders[orders['group']=='A']['visitor_id'].isin(orders[orders['group']=='B']['visitor_id'])\n",
    "d = d[['visitor_id', 'double']].query('double==True')\n",
    "\n",
    "print(f\"количество пользователей, попавших в обе группы теста: {d['double'].sum()}\")"
   ]
  },
  {
   "cell_type": "markdown",
   "metadata": {},
   "source": [
    "Пользователи не должны попадать одновременно в две группы. В идеале - их нужно убрать из выборки"
   ]
  },
  {
   "cell_type": "markdown",
   "metadata": {},
   "source": [
    "<a id=\"cumulative\"> </a>\n",
    "# 3.1. Расчет кумулятивных значений."
   ]
  },
  {
   "cell_type": "code",
   "execution_count": 196,
   "metadata": {},
   "outputs": [
    {
     "data": {
      "text/html": [
       "<div>\n",
       "<style scoped>\n",
       "    .dataframe tbody tr th:only-of-type {\n",
       "        vertical-align: middle;\n",
       "    }\n",
       "\n",
       "    .dataframe tbody tr th {\n",
       "        vertical-align: top;\n",
       "    }\n",
       "\n",
       "    .dataframe thead th {\n",
       "        text-align: right;\n",
       "    }\n",
       "</style>\n",
       "<table border=\"1\" class=\"dataframe\">\n",
       "  <thead>\n",
       "    <tr style=\"text-align: right;\">\n",
       "      <th></th>\n",
       "      <th>date</th>\n",
       "      <th>group</th>\n",
       "    </tr>\n",
       "  </thead>\n",
       "  <tbody>\n",
       "    <tr>\n",
       "      <th>0</th>\n",
       "      <td>2019-08-15</td>\n",
       "      <td>B</td>\n",
       "    </tr>\n",
       "    <tr>\n",
       "      <th>2</th>\n",
       "      <td>2019-08-15</td>\n",
       "      <td>A</td>\n",
       "    </tr>\n",
       "    <tr>\n",
       "      <th>45</th>\n",
       "      <td>2019-08-16</td>\n",
       "      <td>A</td>\n",
       "    </tr>\n",
       "  </tbody>\n",
       "</table>\n",
       "</div>"
      ],
      "text/plain": [
       "         date group\n",
       "0  2019-08-15     B\n",
       "2  2019-08-15     A\n",
       "45 2019-08-16     A"
      ]
     },
     "execution_count": 196,
     "metadata": {},
     "output_type": "execute_result"
    }
   ],
   "source": [
    "# создаем массив уникальных пар значений дат и групп теста\n",
    "\n",
    "dates_groups = orders[['date', 'group']].drop_duplicates()\n",
    "dates_groups.head(3)"
   ]
  },
  {
   "cell_type": "code",
   "execution_count": 197,
   "metadata": {},
   "outputs": [
    {
     "data": {
      "text/html": [
       "<div>\n",
       "<style scoped>\n",
       "    .dataframe tbody tr th:only-of-type {\n",
       "        vertical-align: middle;\n",
       "    }\n",
       "\n",
       "    .dataframe tbody tr th {\n",
       "        vertical-align: top;\n",
       "    }\n",
       "\n",
       "    .dataframe thead th {\n",
       "        text-align: right;\n",
       "    }\n",
       "</style>\n",
       "<table border=\"1\" class=\"dataframe\">\n",
       "  <thead>\n",
       "    <tr style=\"text-align: right;\">\n",
       "      <th></th>\n",
       "      <th>date</th>\n",
       "      <th>group</th>\n",
       "      <th>transaction_id</th>\n",
       "      <th>visitor_id</th>\n",
       "      <th>revenue</th>\n",
       "    </tr>\n",
       "  </thead>\n",
       "  <tbody>\n",
       "    <tr>\n",
       "      <th>55</th>\n",
       "      <td>2019-08-01</td>\n",
       "      <td>A</td>\n",
       "      <td>24</td>\n",
       "      <td>20</td>\n",
       "      <td>148579</td>\n",
       "    </tr>\n",
       "    <tr>\n",
       "      <th>66</th>\n",
       "      <td>2019-08-01</td>\n",
       "      <td>B</td>\n",
       "      <td>21</td>\n",
       "      <td>20</td>\n",
       "      <td>101217</td>\n",
       "    </tr>\n",
       "    <tr>\n",
       "      <th>175</th>\n",
       "      <td>2019-08-02</td>\n",
       "      <td>A</td>\n",
       "      <td>44</td>\n",
       "      <td>38</td>\n",
       "      <td>242401</td>\n",
       "    </tr>\n",
       "  </tbody>\n",
       "</table>\n",
       "</div>"
      ],
      "text/plain": [
       "          date group  transaction_id  visitor_id  revenue\n",
       "55  2019-08-01     A              24          20   148579\n",
       "66  2019-08-01     B              21          20   101217\n",
       "175 2019-08-02     A              44          38   242401"
      ]
     },
     "execution_count": 197,
     "metadata": {},
     "output_type": "execute_result"
    }
   ],
   "source": [
    "# соберём агрегированные кумулятивные по дням данные о заказах\n",
    "\n",
    "orders_aggregated = dates_groups.apply(lambda x: \\\n",
    "                                       orders[np.logical_and(orders['date'] <= x['date'], orders['group'] == x['group'])]\\\n",
    "                                      .agg({'date' : 'max', 'group' : 'max', 'transaction_id' : 'nunique', \\\n",
    "                                            'visitor_id' : 'nunique', 'revenue' : 'sum'}), axis=1)\\\n",
    "                                      .sort_values(by=['date','group'])\n",
    "orders_aggregated.head(3)"
   ]
  },
  {
   "cell_type": "code",
   "execution_count": 198,
   "metadata": {},
   "outputs": [
    {
     "data": {
      "text/html": [
       "<div>\n",
       "<style scoped>\n",
       "    .dataframe tbody tr th:only-of-type {\n",
       "        vertical-align: middle;\n",
       "    }\n",
       "\n",
       "    .dataframe tbody tr th {\n",
       "        vertical-align: top;\n",
       "    }\n",
       "\n",
       "    .dataframe thead th {\n",
       "        text-align: right;\n",
       "    }\n",
       "</style>\n",
       "<table border=\"1\" class=\"dataframe\">\n",
       "  <thead>\n",
       "    <tr style=\"text-align: right;\">\n",
       "      <th></th>\n",
       "      <th>date</th>\n",
       "      <th>group</th>\n",
       "      <th>visitors</th>\n",
       "    </tr>\n",
       "  </thead>\n",
       "  <tbody>\n",
       "    <tr>\n",
       "      <th>55</th>\n",
       "      <td>2019-08-01</td>\n",
       "      <td>A</td>\n",
       "      <td>719</td>\n",
       "    </tr>\n",
       "    <tr>\n",
       "      <th>66</th>\n",
       "      <td>2019-08-01</td>\n",
       "      <td>B</td>\n",
       "      <td>713</td>\n",
       "    </tr>\n",
       "    <tr>\n",
       "      <th>175</th>\n",
       "      <td>2019-08-02</td>\n",
       "      <td>A</td>\n",
       "      <td>1338</td>\n",
       "    </tr>\n",
       "  </tbody>\n",
       "</table>\n",
       "</div>"
      ],
      "text/plain": [
       "          date group  visitors\n",
       "55  2019-08-01     A       719\n",
       "66  2019-08-01     B       713\n",
       "175 2019-08-02     A      1338"
      ]
     },
     "execution_count": 198,
     "metadata": {},
     "output_type": "execute_result"
    }
   ],
   "source": [
    "# соберём агрегированные кумулятивные по дням данные о посетителях интернет-магазина\n",
    "\n",
    "visitors_aggregated = dates_groups.apply(lambda x: \\\n",
    "                                    visitors[np.logical_and(visitors['date'] <= x['date'], visitors['group'] == x['group'])]\\\n",
    "                                    .agg({'date' : 'max', 'group' : 'max', 'visitors' : 'sum'}), axis=1)\\\n",
    "                                    .sort_values(by=['date','group']) \n",
    "visitors_aggregated.head(3)"
   ]
  },
  {
   "cell_type": "code",
   "execution_count": 199,
   "metadata": {},
   "outputs": [],
   "source": [
    "# объединим данные в одну таблицу\n",
    "\n",
    "cumulative_data = orders_aggregated.merge(visitors_aggregated, left_on=['date', 'group'], right_on=['date', 'group'])\n",
    "cumulative_data.columns = ['date', 'group', 'orders', 'buyers', 'revenue', 'visitors']"
   ]
  },
  {
   "cell_type": "code",
   "execution_count": 206,
   "metadata": {},
   "outputs": [
    {
     "name": "stdout",
     "output_type": "stream",
     "text": [
      "True\n",
      "True\n"
     ]
    }
   ],
   "source": [
    "# проверим совпадают ли минимальная и максимальная даты в датафрейме cumulative_data с минимальной \n",
    "# и максимальной датой в исходных данных\n",
    "\n",
    "print(cumulative_data['date'].min()==visitors['date'].min())\n",
    "print(cumulative_data['date'].max()==visitors['date'].max())"
   ]
  },
  {
   "cell_type": "code",
   "execution_count": 207,
   "metadata": {},
   "outputs": [],
   "source": [
    "# разделим исходный датафрейм на два (по группам теста)\n",
    "# с кумулятивным количеством заказов и кумулятивной выручкой по дням\n",
    "\n",
    "cumulatuve_revenue_a = cumulative_data[cumulative_data['group']=='A'][['date', 'revenue', 'orders']]\n",
    "cumulatuve_revenue_b = cumulative_data[cumulative_data['group']=='B'][['date', 'revenue', 'orders']]"
   ]
  },
  {
   "cell_type": "code",
   "execution_count": 231,
   "metadata": {},
   "outputs": [
    {
     "data": {
      "image/png": "[encoded data removed]",
      "text/plain": [
       "<Figure size 864x360 with 1 Axes>"
      ]
     },
     "metadata": {
      "needs_background": "light"
     },
     "output_type": "display_data"
    }
   ],
   "source": [
    "# строим график выручки по группам\n",
    "\n",
    "plt.figure(figsize=(12,5))\n",
    "plt.plot(cumulatuve_revenue_a['date'], cumulatuve_revenue_a['revenue'], label='A')\n",
    "plt.plot(cumulatuve_revenue_b['date'], cumulatuve_revenue_b['revenue'], label='B')\n",
    "plt.xlabel('дата')\n",
    "plt.ylabel('выручка')\n",
    "plt.legend(title='Динамика выручки по дням по группам');"
   ]
  },
  {
   "cell_type": "markdown",
   "metadata": {},
   "source": [
    "На графике выручки по группам виден устойчивый рост выручки в обеих группах. Группа А растет стабильно, в группе В наблюдает всплеск и прирост выручки 18 августа. Возможно, это связано с нововведениями, которые простимулировали покупателей и увеличили конверсию. Либо в заказ попали аномально дорогие позиции."
   ]
  },
  {
   "cell_type": "code",
   "execution_count": 232,
   "metadata": {},
   "outputs": [
    {
     "data": {
      "image/png": "[encoded data removed]",
      "text/plain": [
       "<Figure size 864x360 with 1 Axes>"
      ]
     },
     "metadata": {
      "needs_background": "light"
     },
     "output_type": "display_data"
    }
   ],
   "source": [
    "# строим график среднего чека по группам\n",
    "\n",
    "plt.figure(figsize=(12,5))\n",
    "plt.plot(cumulatuve_revenue_a['date'], cumulatuve_revenue_a['revenue']/cumulatuve_revenue_a['orders'], label='A')\n",
    "plt.plot(cumulatuve_revenue_b['date'], cumulatuve_revenue_b['revenue']/cumulatuve_revenue_b['orders'], label='B')\n",
    "plt.xlabel('дата')\n",
    "plt.ylabel('средний чек')\n",
    "plt.legend(title='График среднего чека по группам');"
   ]
  },
  {
   "cell_type": "markdown",
   "metadata": {},
   "source": [
    "18 августа мы видим резкий скачок среднего чека в группе В. Это так же может быть связно с аномально дорогими товарами.\n",
    "\n",
    "Средний чек группы А постепенно растет, средний чек группы В постепенно снижается, возможно, нужно больше данных для стабилизации."
   ]
  },
  {
   "cell_type": "code",
   "execution_count": 233,
   "metadata": {},
   "outputs": [
    {
     "data": {
      "text/html": [
       "<div>\n",
       "<style scoped>\n",
       "    .dataframe tbody tr th:only-of-type {\n",
       "        vertical-align: middle;\n",
       "    }\n",
       "\n",
       "    .dataframe tbody tr th {\n",
       "        vertical-align: top;\n",
       "    }\n",
       "\n",
       "    .dataframe thead th {\n",
       "        text-align: right;\n",
       "    }\n",
       "</style>\n",
       "<table border=\"1\" class=\"dataframe\">\n",
       "  <thead>\n",
       "    <tr style=\"text-align: right;\">\n",
       "      <th></th>\n",
       "      <th>date</th>\n",
       "      <th>revenueA</th>\n",
       "      <th>ordersA</th>\n",
       "      <th>revenueB</th>\n",
       "      <th>ordersB</th>\n",
       "    </tr>\n",
       "  </thead>\n",
       "  <tbody>\n",
       "    <tr>\n",
       "      <th>0</th>\n",
       "      <td>2019-08-01</td>\n",
       "      <td>148579</td>\n",
       "      <td>24</td>\n",
       "      <td>101217</td>\n",
       "      <td>21</td>\n",
       "    </tr>\n",
       "    <tr>\n",
       "      <th>1</th>\n",
       "      <td>2019-08-02</td>\n",
       "      <td>242401</td>\n",
       "      <td>44</td>\n",
       "      <td>266748</td>\n",
       "      <td>45</td>\n",
       "    </tr>\n",
       "    <tr>\n",
       "      <th>2</th>\n",
       "      <td>2019-08-03</td>\n",
       "      <td>354874</td>\n",
       "      <td>68</td>\n",
       "      <td>380996</td>\n",
       "      <td>61</td>\n",
       "    </tr>\n",
       "  </tbody>\n",
       "</table>\n",
       "</div>"
      ],
      "text/plain": [
       "        date  revenueA  ordersA  revenueB  ordersB\n",
       "0 2019-08-01    148579       24    101217       21\n",
       "1 2019-08-02    242401       44    266748       45\n",
       "2 2019-08-03    354874       68    380996       61"
      ]
     },
     "execution_count": 233,
     "metadata": {},
     "output_type": "execute_result"
    }
   ],
   "source": [
    "# объединим датафреймы с кумулятивным количеством заказов и кумулятивной выручкой по дням, разбитые по группам\n",
    "\n",
    "merged_cumulative_revenue = cumulatuve_revenue_a.merge(cumulatuve_revenue_b, left_on='date', \n",
    "                                                       right_on='date', how='left', suffixes=['A', 'B'])\n",
    "merged_cumulative_revenue.head(3)"
   ]
  },
  {
   "cell_type": "code",
   "execution_count": 234,
   "metadata": {},
   "outputs": [
    {
     "data": {
      "image/png": "[encoded data removed]",
      "text/plain": [
       "<Figure size 864x360 with 1 Axes>"
      ]
     },
     "metadata": {
      "needs_background": "light"
     },
     "output_type": "display_data"
    }
   ],
   "source": [
    "# строим график относительного различия среднего чека\n",
    "\n",
    "plt.figure(figsize=(12,5))\n",
    "plt.plot(merged_cumulative_revenue['date'], \n",
    "        (merged_cumulative_revenue['revenueB']/merged_cumulative_revenue['ordersB']) / \n",
    "         (merged_cumulative_revenue['revenueA']/merged_cumulative_revenue['ordersA']) - 1,\n",
    "        label='График относительного различия среднего чека')\n",
    "\n",
    "plt.xlabel('дата')\n",
    "plt.ylabel('относительное различие среднего чека')\n",
    "plt.legend(loc='lower center')\n",
    "plt.axhline(y=0, color='black', linestyle='--');"
   ]
  },
  {
   "cell_type": "markdown",
   "metadata": {},
   "source": [
    "Мы видим скачки на графике относительного различия среднего чека. Их так же можно объяснить выбросами."
   ]
  },
  {
   "cell_type": "code",
   "execution_count": 225,
   "metadata": {},
   "outputs": [],
   "source": [
    "# посчитаем конверсию посетителей в заказы\n",
    "# разделим датафрейм на две группы\n",
    "\n",
    "cumulative_data['conversion'] = cumulative_data['orders'] / cumulative_data['visitors']\n",
    "\n",
    "cumulative_data_a = cumulative_data[cumulative_data['group']=='A']\n",
    "cumulative_data_b = cumulative_data[cumulative_data['group']=='B']"
   ]
  },
  {
   "cell_type": "code",
   "execution_count": 235,
   "metadata": {},
   "outputs": [
    {
     "data": {
      "image/png": "[encoded data removed]",
      "text/plain": [
       "<Figure size 864x360 with 1 Axes>"
      ]
     },
     "metadata": {
      "needs_background": "light"
     },
     "output_type": "display_data"
    }
   ],
   "source": [
    "# построим график кумулятивного среднего количества заказов на посетителя по группам\n",
    "\n",
    "plt.figure(figsize=(12,5))\n",
    "plt.plot(cumulative_data_a['date'], cumulative_data_a['conversion'], label='A')\n",
    "plt.plot(cumulative_data_b['date'], cumulative_data_b['conversion'], label='B')\n",
    "plt.legend()\n",
    "plt.axis([cumulative_data_a['date'].min(), cumulative_data_a['date'].max(), 0, 0.04])\n",
    "\n",
    "plt.xlabel('дата')\n",
    "plt.ylabel('конверсия')\n",
    "plt.legend(title='График кумулятивного среднего количества заказов на посетителя по группам');"
   ]
  },
  {
   "cell_type": "markdown",
   "metadata": {},
   "source": [
    "Мы наблюдаем скачок конверсии группы А в самом начале наблюдений, потом - снижение и выход на плато. Схожая ситуация в группе В - несколько скачков в самом начале, потом конверсия зафиксировалось."
   ]
  },
  {
   "cell_type": "code",
   "execution_count": 236,
   "metadata": {},
   "outputs": [],
   "source": [
    "# объединим данные о конверсии\n",
    "\n",
    "merged_cumulative_conversions = cumulative_data_a[['date', 'conversion']].merge(cumulative_data_b[['date', 'conversion']], \\\n",
    "                                                        left_on='date', right_on='date', how='left', suffixes=['A', 'B'])"
   ]
  },
  {
   "cell_type": "code",
   "execution_count": 237,
   "metadata": {},
   "outputs": [
    {
     "data": {
      "image/png": "[encoded data removed]",
      "text/plain": [
       "<Figure size 864x360 with 1 Axes>"
      ]
     },
     "metadata": {
      "needs_background": "light"
     },
     "output_type": "display_data"
    }
   ],
   "source": [
    "# построим график относительного изменения кумулятивного среднего количества заказов на посетителя по группам\n",
    "\n",
    "plt.figure(figsize=(12,5))\n",
    "plt.plot(merged_cumulative_conversions['date'], \n",
    "        merged_cumulative_conversions['conversionB'] / merged_cumulative_conversions['conversionA'] - 1,\n",
    "        label='Относительное изменение кумулятивного среднего количества заказов на посетителя группы В к группе А')\n",
    "plt.legend(loc='lower center')\n",
    "plt.xlabel('дата')\n",
    "plt.ylabel('конверсия')\n",
    "\n",
    "plt.axhline(y=0, color='black', linestyle='--')\n",
    "plt.axis([cumulative_data_a['date'].min(), cumulative_data_a['date'].max(), -0.2, 0.3]);"
   ]
  },
  {
   "cell_type": "markdown",
   "metadata": {},
   "source": [
    "В начале наблюдений конверсия группы В была неустойчивая, затем стала расти. К концу наблюдений конверсия немного стабилизировалась, но \"хвост\" графика намекает на возможность роста. Возможно, нужно больше данных для стабилизации."
   ]
  },
  {
   "cell_type": "markdown",
   "metadata": {},
   "source": [
    "<a id=\"scatter_and_perc\"> </a>\n",
    "\n",
    "# 3.2. Точечная оценка и перцентили"
   ]
  },
  {
   "cell_type": "code",
   "execution_count": 248,
   "metadata": {},
   "outputs": [
    {
     "data": {
      "image/png": "[encoded data removed]",
      "text/plain": [
       "<Figure size 432x288 with 1 Axes>"
      ]
     },
     "metadata": {
      "needs_background": "light"
     },
     "output_type": "display_data"
    }
   ],
   "source": [
    "# построим точечный график количества заказов на пользователя\n",
    "\n",
    "orders_by_user = orders.groupby('visitor_id')['transaction_id'].count()\n",
    "x_values = pd.Series(range(0, len(orders_by_user)))\n",
    "\n",
    "plt.scatter(x_values, orders_by_user, label = 'Количество заказов на пользователя')\n",
    "plt.legend(loc='upper left')\n",
    "plt.xlabel('количество заказов')\n",
    "plt.ylabel('количество пользователей');"
   ]
  },
  {
   "cell_type": "code",
   "execution_count": 32,
   "metadata": {},
   "outputs": [
    {
     "data": {
      "text/plain": [
       "array([2., 4.])"
      ]
     },
     "execution_count": 32,
     "metadata": {},
     "output_type": "execute_result"
    }
   ],
   "source": [
    "# посчитаем 95 и 99 перцентили количества заказов на пользователя\n",
    "\n",
    "np.percentile(orders_by_user, [95, 99])"
   ]
  },
  {
   "cell_type": "markdown",
   "metadata": {},
   "source": [
    "<a id=\"conclusion_3\"> </a>\n",
    "На точечном графике количества заказов на пользователя мы увидели, что большая часть покупателей совершила одну-две покупки, скученную группу точек мы так же наблюдаем на отметке в три покупки. 95 перцентиль \"проходит\" по двум покупкам.\n"
   ]
  },
  {
   "cell_type": "code",
   "execution_count": 258,
   "metadata": {},
   "outputs": [
    {
     "data": {
      "image/png": "[encoded data removed]",
      "text/plain": [
       "<Figure size 432x288 with 1 Axes>"
      ]
     },
     "metadata": {
      "needs_background": "light"
     },
     "output_type": "display_data"
    }
   ],
   "source": [
    "# построим точечный график стоимости заказа (без ограничений)\n",
    "\n",
    "x_values = pd.Series(range(0, len(orders['revenue'])))\n",
    "\n",
    "plt.scatter(x_values, orders['revenue'], label = 'Стоимость заказов')\n",
    "plt.legend(loc='upper left')\n",
    "plt.xlabel('стоимость заказов')\n",
    "plt.ylabel('количество пользователей');"
   ]
  },
  {
   "cell_type": "code",
   "execution_count": 34,
   "metadata": {},
   "outputs": [
    {
     "data": {
      "text/plain": [
       "array([28000. , 58233.2])"
      ]
     },
     "execution_count": 34,
     "metadata": {},
     "output_type": "execute_result"
    }
   ],
   "source": [
    "# посчитаем 95 и 99 перцентили стоимости заказа\n",
    "\n",
    "np.percentile(orders['revenue'], [95, 99])"
   ]
  },
  {
   "cell_type": "code",
   "execution_count": 259,
   "metadata": {},
   "outputs": [
    {
     "data": {
      "text/plain": [
       "(0.0, 58233.2)"
      ]
     },
     "execution_count": 259,
     "metadata": {},
     "output_type": "execute_result"
    },
    {
     "data": {
      "image/png": "[encoded data removed]",
      "text/plain": [
       "<Figure size 432x288 with 1 Axes>"
      ]
     },
     "metadata": {
      "needs_background": "light"
     },
     "output_type": "display_data"
    }
   ],
   "source": [
    "# построим точечный график стоимости заказа (ограниченный до 99 перцентиля)\n",
    "\n",
    "x_values = pd.Series(range(0, len(orders['revenue'])))\n",
    "\n",
    "plt.scatter(x_values, orders['revenue'], label = 'Стоимость заказов')\n",
    "plt.legend(loc='upper left')\n",
    "plt.xlabel('стоимость заказов')\n",
    "plt.ylabel('количество пользователей');\n",
    "plt.ylim((0, 58233.2))"
   ]
  },
  {
   "cell_type": "markdown",
   "metadata": {},
   "source": [
    "95 и 99 перцентили стоимости заказа \"проходят\" по 28000 руб. и  58233.2 руб., соотвественно.\n",
    "\n",
    "Для дальнейшей работы выделим группу аномальных покупателей, совершивших более трех покупок и чьи траты составили более 30000 руб."
   ]
  },
  {
   "cell_type": "markdown",
   "metadata": {},
   "source": [
    "<a id=\"stat_sign\"> </a>\n",
    "\n",
    "# 3.3. Статистическая значимость различий"
   ]
  },
  {
   "cell_type": "markdown",
   "metadata": {},
   "source": [
    "# Гипотезы"
   ]
  },
  {
   "cell_type": "markdown",
   "metadata": {},
   "source": [
    "Нам необходимо проверить <b>два предположения</b> - о различии в среднем количестве заказов на посетителя между группами и о различиях в среднем чеке заказа между группами. Оба предположения будут проверяться по \"сырым\" и \"очищенным\" от аномальных значений данным."
   ]
  },
  {
   "cell_type": "markdown",
   "metadata": {},
   "source": [
    "На основе <b>первого предположения</b> о различии в среднем количестве заказов на посетителя между группами, мы можем сформулировать две гипотезы: \n",
    "- H0: x̅1 = x̅2\n",
    "\n",
    "Основная: статистически значимых различий в среднем количестве заказов между группами нет.\n",
    "- и H1: x̅1 ≠ x̅2\n",
    "\n",
    "Альтернативная: статистически значимые различия в среднем количестве заказов между группами есть."
   ]
  },
  {
   "cell_type": "markdown",
   "metadata": {},
   "source": [
    "И на основе <b>второго предположения</b> (о различиях в среднем чеке заказа между группами):\n",
    "- H0: x̅1 = x̅2\n",
    "\n",
    "Основная: статистически значимых различий в в среднем чеке заказа между группами нет.\n",
    "- и H1: x̅1 ≠ x̅2\n",
    "Альтернативная: статистически значимые различия в в среднем чеке заказа между группами есть.\n"
   ]
  },
  {
   "cell_type": "markdown",
   "metadata": {},
   "source": [
    "<a id=\"hypotesis_1\"> </a>\n",
    "# 3.3.1. Гипотеза № 1 - статистически значимых различий в среднем количестве заказов между группами нет."
   ]
  },
  {
   "cell_type": "code",
   "execution_count": 35,
   "metadata": {},
   "outputs": [],
   "source": [
    "# сгруппируем количество пользователей по датам и группам\n",
    "# переименуем столбцы \n",
    "\n",
    "visitors_daily_a = visitors[visitors['group']=='A'][['date', 'visitors']]\n",
    "visitors_daily_b = visitors[visitors['group']=='B'][['date', 'visitors']]\n",
    "\n",
    "visitors_daily_a.columns = ['date', 'visitors_per_date_a']\n",
    "visitors_daily_b.columns = ['date', 'visitors_per_date_b']"
   ]
  },
  {
   "cell_type": "code",
   "execution_count": 36,
   "metadata": {},
   "outputs": [],
   "source": [
    "# посчитаем посетителей по датам и группам с накоплением\n",
    "# переименуем столбцы \n",
    "\n",
    "visitors_cumulative_a = visitors_daily_a.apply(lambda x: visitors_daily_a[visitors_daily_a['date'] <= x['date']]\n",
    "                                            .agg({'date': 'max', 'visitors_per_date_a': 'sum'}), axis=1)\n",
    "\n",
    "visitors_cumulative_b = visitors_daily_b.apply(lambda x: visitors_daily_b[visitors_daily_b['date'] <= x['date']]\n",
    "                                            .agg({'date': 'max', 'visitors_per_date_b': 'sum'}), axis=1)\n",
    "\n",
    "visitors_cumulative_a.columns = ['date', 'visitors_cumulative_a']\n",
    "visitors_cumulative_b.columns = ['date', 'visitors_cumulative_b']"
   ]
  },
  {
   "cell_type": "code",
   "execution_count": 37,
   "metadata": {},
   "outputs": [],
   "source": [
    "# сгруппируем количество заказов по датам и группам\n",
    "# переименуем столбцы \n",
    "\n",
    "orders_daily_a = (orders[orders['group']=='A'][['date', 'transaction_id', 'visitor_id', 'revenue']]\n",
    "                 .groupby('date', as_index=False).agg({'transaction_id': pd.Series.nunique, 'revenue': 'sum'}))\n",
    "orders_daily_b = (orders[orders['group']=='B'][['date', 'transaction_id', 'visitor_id', 'revenue']]\n",
    "                 .groupby('date', as_index=False).agg({'transaction_id': pd.Series.nunique, 'revenue': 'sum'}))\n",
    "\n",
    "orders_daily_a.columns = ['date', 'orders_per_date_a', 'revenue_per_date_a']\n",
    "orders_daily_b.columns = ['date', 'orders_per_date_b', 'revenue_per_date_b']"
   ]
  },
  {
   "cell_type": "code",
   "execution_count": 38,
   "metadata": {},
   "outputs": [],
   "source": [
    "# посчитаем количество заказов по датам и группам с накоплением\n",
    "# переименуем столбцы \n",
    "\n",
    "orders_cumulative_a = orders_daily_a.apply(lambda x: orders_daily_a[orders_daily_a['date'] <= x['date']]\n",
    "                                            .agg({'date': 'max', 'orders_per_date_a': 'sum'}), axis=1)\n",
    "orders_cumulative_b = orders_daily_b.apply(lambda x: orders_daily_b[orders_daily_b['date'] <= x['date']]\n",
    "                                            .agg({'date': 'max', 'orders_per_date_b': 'sum'}), axis=1)\n",
    "\n",
    "orders_cumulative_a.columns = ['date', 'orders_cumulative_a']\n",
    "orders_cumulative_b.columns = ['date', 'orders_cumulative_b']"
   ]
  },
  {
   "cell_type": "code",
   "execution_count": 260,
   "metadata": {},
   "outputs": [],
   "source": [
    "# объединяем получившиеся датафреймы в один\n",
    "\n",
    "#data = (orders_daily_a.merge(orders_daily_b, left_on='date', right_on='date', how='left')\n",
    "#                      .merge(orders_cumulative_a, left_on='date', right_on='date', how='left')\n",
    "#                      .merge(orders_cumulative_b, left_on='date', right_on='date', how='left')\n",
    "#                      .merge(visitors_daily_a, left_on='date', right_on='date', how='left')\n",
    "#                      .merge(visitors_daily_b, left_on='date', right_on='date', how='left')\n",
    "#                      .merge(visitors_cumulative_a, left_on='date', right_on='date', how='left')\n",
    "#                      .merge(visitors_cumulative_b, left_on='date', right_on='date', how='left')\n",
    "#       )"
   ]
  },
  {
   "cell_type": "code",
   "execution_count": 41,
   "metadata": {},
   "outputs": [],
   "source": [
    "# создадим переменные в которых укажем число совершенных заказов для пользователей, которые \n",
    "# заказали хотя бы раз\n",
    "# переименуем столбцы \n",
    "\n",
    "orders_by_users_a = (orders[orders['group'] == 'A'].groupby('visitor_id', as_index=False)\n",
    "                                                .agg({'transaction_id': pd.Series.nunique}))\n",
    "orders_by_users_b = (orders[orders['group'] == 'B'].groupby('visitor_id', as_index=False)\n",
    "                                                .agg({'transaction_id': pd.Series.nunique}))\n",
    "\n",
    "orders_by_users_a.columns = ['visitor_id', 'orders']\n",
    "orders_by_users_b.columns = ['visitor_id', 'orders']"
   ]
  },
  {
   "cell_type": "markdown",
   "metadata": {},
   "source": [
    "<a id=\"raw_1\"> </a>\n",
    "\n",
    "# 3.3.2. Посчитаем стат. значимость по \"сырым\" данным"
   ]
  },
  {
   "cell_type": "code",
   "execution_count": 42,
   "metadata": {},
   "outputs": [],
   "source": [
    "# объявим переменные sample_a и sample_b, в которых пользователям из разных групп будет соответствовать \n",
    "# количество заказов. Тем, кто ничего не заказал, будут соответствовать нули\n",
    "\n",
    "sample_a = pd.concat([orders_by_users_a['orders'],pd.Series(0, \n",
    "                                                         index=np.arange(data['visitors_per_date_a'].sum() - \n",
    "                                                         len(orders_by_users_a['orders'])), name='orders')], axis=0)\n",
    "\n",
    "sample_b = pd.concat([orders_by_users_b['orders'],pd.Series(0, \n",
    "                                                         index=np.arange(data['visitors_per_date_b'].sum() - \n",
    "                                                         len(orders_by_users_b['orders'])), name='orders')], axis=0)\n"
   ]
  },
  {
   "cell_type": "code",
   "execution_count": 43,
   "metadata": {},
   "outputs": [
    {
     "name": "stdout",
     "output_type": "stream",
     "text": [
      "p-value (сырые данные): 0.017\n",
      "относительное изменение в среднем количестве заказов в группе B по отношению к группе A (сырые данные): 0.138\n"
     ]
    }
   ],
   "source": [
    "print('p-value (сырые данные): {0:.3f}'.format(st.mannwhitneyu(sample_a, sample_b)[1]))\n",
    "\n",
    "print('относительное изменение в среднем количестве заказов в группе B по отношению к группе A (сырые данные): {0:.3f}'\n",
    "      .format(sample_b.mean() / sample_a.mean() - 1))"
   ]
  },
  {
   "cell_type": "markdown",
   "metadata": {},
   "source": [
    "<b>Гипотеза № 1</b> - Н0: статистически значимых различий в среднем количестве заказов между группами нет \n",
    "\n",
    "> Для дальнейшей работы примем пороговый уровень статистической значимости  в 0.05 (далее - \"alpha\").\n",
    "\n",
    "В ходе проверки гипотезы № 1 на \"сырых\" данных мы получили значение p-value равное 0.017, что меньше принятого нами alpha, значит мы можем <b>отвергнуть нулевую гипотезу</b>.\n",
    "\n",
    "Относительное изменение в среднем количестве заказов в группе B по отношению к группе A (на \"сырых\" данные) составляет 13.8%."
   ]
  },
  {
   "cell_type": "markdown",
   "metadata": {},
   "source": [
    "В шаге [3.2](#scatter_and_perc) мы выяснили, что 95 и 99 перцентили количества заказов - это 2 и 4 заказа, соответственно. На графике мы увидели скученность точек на отметке в три заказа. \n",
    "\n",
    "95 и 99 перцентили стоимости заказа - 28 000 и 58 233.2 рубля.\n",
    "\n",
    "В качестве максимальных значений выберем 3 заказа и стоимость заказа в 30 000 рублей. Все остальное будем считать аномльными значениями."
   ]
  },
  {
   "cell_type": "code",
   "execution_count": 44,
   "metadata": {},
   "outputs": [
    {
     "data": {
      "text/plain": [
       "57"
      ]
     },
     "execution_count": 44,
     "metadata": {},
     "output_type": "execute_result"
    }
   ],
   "source": [
    "# узнаем количество \"аномальных\" пользоваталей \n",
    "\n",
    "users_with_many_orders = pd.concat([orders_by_users_a[orders_by_users_a['orders'] > 3]['visitor_id'],\n",
    "                                    orders_by_users_b[orders_by_users_b['orders'] > 3]['visitor_id']], axis=0)\n",
    "\n",
    "users_with_expensive_orders = orders[orders['revenue'] > 30000]['visitor_id']\n",
    "\n",
    "abnormal_users = (pd.concat([users_with_many_orders, users_with_expensive_orders], axis=0)\n",
    "                   .drop_duplicates()\n",
    "                   .sort_values())\n",
    "\n",
    "abnormal_users.shape[0]"
   ]
  },
  {
   "cell_type": "markdown",
   "metadata": {},
   "source": [
    "В имеющемся датасете обнаружено 57 аномальных пользователей, которых мы выделим в отдельный датасет."
   ]
  },
  {
   "cell_type": "markdown",
   "metadata": {},
   "source": [
    "<a id=\"clear_1\"> </a>\n",
    "\n",
    "# 3.3.3. Посчитаем стат. значимость по \"очищенным\" данным"
   ]
  },
  {
   "cell_type": "code",
   "execution_count": 45,
   "metadata": {},
   "outputs": [],
   "source": [
    "sample_filtered_a = pd.concat([orders_by_users_a[np.logical_not(orders_by_users_a['visitor_id'].isin(abnormal_users))]['orders'], \n",
    "    pd.Series(0, index=np.arange(data['visitors_per_date_a'].sum() - len(orders_by_users_a['orders'])), name='orders')], axis=0)"
   ]
  },
  {
   "cell_type": "code",
   "execution_count": 46,
   "metadata": {},
   "outputs": [],
   "source": [
    "sample_filtered_b = pd.concat([orders_by_users_b[np.logical_not(orders_by_users_b['visitor_id'].isin(abnormal_users))]['orders'], \n",
    "    pd.Series(0, index=np.arange(data['visitors_per_date_b'].sum() - len(orders_by_users_b['orders'])), name='orders')], axis=0)"
   ]
  },
  {
   "cell_type": "code",
   "execution_count": 47,
   "metadata": {},
   "outputs": [
    {
     "name": "stdout",
     "output_type": "stream",
     "text": [
      "p-value (очищ. данные): 0.018\n",
      "относительное изменение в среднем количестве заказов в группе B по отношению к группе A (очищ. данные): 0.148\n"
     ]
    }
   ],
   "source": [
    "print('p-value (очищ. данные): {0:.3f}'.format(st.mannwhitneyu(sample_filtered_a, sample_filtered_b)[1]))\n",
    "\n",
    "print('относительное изменение в среднем количестве заказов в группе B по отношению к группе A (очищ. данные): {0:.3f}'\n",
    "      .format(sample_filtered_b.mean() / sample_filtered_a.mean() - 1))"
   ]
  },
  {
   "cell_type": "markdown",
   "metadata": {},
   "source": [
    "<a id=\"conclusion_4\"> </a>\n",
    "Проведем те же самые расчеты на \"очищенных данных\", убрав из выборки \"аномальных пользователей\".\n",
    "Полученный p-value составляет 0.018, что так же меньше alpha, значит мы  все еще можем <b>отвергнуть нулевую гипотезу</b>.\n",
    "\n",
    "Относительное изменение в среднем количестве заказов в группе B по отношению к группе A (на \"очищенных\" данных) составляет 14.8%.\n",
    "\n",
    "Выросший процент относительного изменения может нам подсказать, что аномально большое (больше трех) количество заказов было в группе А."
   ]
  },
  {
   "cell_type": "markdown",
   "metadata": {},
   "source": [
    "<a id=\"hypotesis_2\"> </a>\n",
    "\n",
    "# 3.3.4. Гипотеза № 2 - статистически значимых различий в среднем чеке заказа между группами нет."
   ]
  },
  {
   "cell_type": "markdown",
   "metadata": {},
   "source": [
    "<a id=\"raw_2\"> </a>\n",
    "\n",
    "# 3.3.5. Посчитаем стат. значимость по \"сырым\" данным"
   ]
  },
  {
   "cell_type": "code",
   "execution_count": 48,
   "metadata": {},
   "outputs": [
    {
     "name": "stdout",
     "output_type": "stream",
     "text": [
      "p-value (сырые данные): 0.729\n",
      "относительное изменение в среднем чеке заказа в группе B по отношению к группе A (сырые данные): 0.259\n"
     ]
    }
   ],
   "source": [
    "print('p-value (сырые данные): {0:.3f}'.format(st.mannwhitneyu(orders[orders['group']=='A']['revenue'],\n",
    "                                                orders[orders['group']=='B']['revenue'])[1]))\n",
    "\n",
    "\n",
    "print('относительное изменение в среднем чеке заказа в группе B по отношению к группе A (сырые данные): {0:.3f}'\n",
    "      .format(orders[orders['group']=='B']['revenue'].mean()/orders[orders['group']=='A']['revenue'].mean()-1))"
   ]
  },
  {
   "cell_type": "markdown",
   "metadata": {},
   "source": [
    "<b>Гипотеза № 2</b> - Н0: статистически значимых различий в среднем чеке заказа между группами нет.\n",
    "\n",
    "Полученное на \"сырых\" данных p-value (0.729) больше, чем установленное нами alpha, значит, мы <b>не можем отвегнуть нулевую гипотезу </b> в пользу альтернативной.\n",
    "\n",
    "Относительное изменение в чеке заказа в группе B по отношению к группе A (на \"сырых\" данные) составляет 25.9%."
   ]
  },
  {
   "cell_type": "markdown",
   "metadata": {},
   "source": [
    "<a id=\"clear_2\"> </a>\n",
    "\n",
    "# 3.3.6. Посчитаем стат. значимость по \"очищенным\" данным"
   ]
  },
  {
   "cell_type": "code",
   "execution_count": 49,
   "metadata": {},
   "outputs": [
    {
     "name": "stdout",
     "output_type": "stream",
     "text": [
      "p-value (очищ. данные): 0.958\n",
      "относительное изменение в среднем чеке заказа в группе B по отношению к группе A (очищ. данные): -0.020\n"
     ]
    }
   ],
   "source": [
    "print('p-value (очищ. данные): {0:.3f}'.format(st.mannwhitneyu(orders[np.logical_and(orders['group']=='A', \n",
    "                                                 np.logical_not(orders['visitor_id'].isin(abnormal_users)))]['revenue'],\n",
    "                                                 orders[np.logical_and(orders['group']=='B', \n",
    "                                                 np.logical_not(orders['visitor_id'].isin(abnormal_users)))]['revenue'])[1]))\n",
    "\n",
    "\n",
    "print('относительное изменение в среднем чеке заказа в группе B по отношению к группе A (очищ. данные): {0:.3f}'\n",
    "                            .format(orders[np.logical_and(orders['group']=='B', \n",
    "                            np.logical_not(orders['visitor_id'].isin(abnormal_users)))]['revenue'].mean() /\n",
    "                            orders[np.logical_and(orders['group']=='A', \n",
    "                            np.logical_not(orders['visitor_id'].isin(abnormal_users)))]['revenue'].mean()-1))"
   ]
  },
  {
   "cell_type": "markdown",
   "metadata": {},
   "source": [
    "<a id=\"conclusion_5\"> </a>\n",
    "Проведем те же самые расчеты на \"очищенных данных\", убрав из выборки \"аномальных пользователей\". Полученный p-value составляет 0.958, что так же больше alpha, значит мы все еще <b>не можем отвегнуть нулевую гипотезу </b> в пользу альтернативной.\n",
    "\n",
    "Относительное изменение в среднем количестве заказов в группе B по отношению к группе A (на \"очищенных\" данных) составляет 14.8%.\n",
    "\n",
    "Относительное изменение просело и составило - -2%.  Аномально дорогие заказы попали в группу В, что мы уже видели на графиках из раздела [\"Расчет кумулятивных значений\"](#cumulative)"
   ]
  },
  {
   "cell_type": "markdown",
   "metadata": {},
   "source": [
    "<a id=\"conclusion_6\"> </a>\n",
    "# Общий вывод"
   ]
  },
  {
   "cell_type": "markdown",
   "metadata": {},
   "source": [
    "Для исследования нам доступно три датасета - hypothesis, orders и visitors:\n",
    "- датафрейм hypothesis - 9 строк, 5 колонок, пропущенных значений - нет;\n",
    "- датафрейм orders - 1197 строк, 5 колонок, пропущенных значений - нет;\n",
    "- датафрейм visitors - 62 строки, 3 колонки, пропущенных значений - нет.\n",
    "\n",
    "\n",
    "Была выполнена предобработка:\n",
    "- изменен тип данных в столбцах 'date' в датафреймах 'orders' и 'visitors';\n",
    "- изменен стиль написания названий столбцов 'transaction Id' и 'visitor Id' (snake case вместо camel case) в датафрейме 'orders';\n",
    "- изменен стиль написания названий столбцов (с маленькой буквы) в датафрейме 'hypothesis'. "
   ]
  },
  {
   "cell_type": "markdown",
   "metadata": {},
   "source": [
    "# Приоритезация гипотез.\n",
    "\n",
    "В датасете 'hypothesis' содержит девять гипотез:\n",
    "- № 0 - 'Добавить два новых канала привлечения трафика, что позволит привлекать на 30% больше пользователей',\n",
    "- № 1 - 'Запустить собственную службу доставки, что сократит срок доставки заказов',\n",
    "- № 2 - 'Добавить блоки рекомендаций товаров на сайт интернет магазина, чтобы повысить конверсию и средний чек заказа',\n",
    "- № 3 - 'Изменить структура категорий, что увеличит конверсию, т.к. пользователи быстрее найдут нужный товар',\n",
    "- № 4 - 'Изменить цвет фона главной страницы, чтобы увеличить вовлеченность пользователей',\n",
    "- № 5 - 'Добавить страницу отзывов клиентов о магазине, что позволит увеличить количество заказов',\n",
    "- № 6 - 'Показать на главной странице баннеры с актуальными акциями и распродажами, чтобы увеличить конверсию',\n",
    "- № 7 - 'Добавить форму подписки на все основные страницы, чтобы собрать базу клиентов для email-рассылок',\n",
    "- № 8 - 'Запустить акцию, дающую скидку на товар в день рождения'.\n",
    "\n",
    "Данных гипотезы мы приоритезировали при помощи фреймворков ICE и RICE. \n",
    "\n",
    "Приоритезировав гипотезы фреймворком ICE, мы выделили топ-3 гипотезы:\n",
    "- № 8 - 'Запустить акцию, дающую скидку на товар в день рождения' (ICE - 16.2);\n",
    "- № 0 - 'Добавить два новых канала привлечения трафика, что позволит привлекать на 30% больше пользователей' (ICE - 13.3),\n",
    "- № 7 - 'Добавить форму подписки на все основные страницы, чтобы собрать базу клиентов для email-рассылок' (ICE - 11.2).\n",
    "\n",
    "Воспользовавшись фрйемворком RICE, в топ-3 вышли гипотезы:\n",
    "- № 7 - 'Добавить форму подписки на все основные страницы, чтобы собрать базу клиентов для email-рассылок' (RICE - 112);\n",
    "- № 2 - 'Добавить блоки рекомендаций товаров на сайт интернет магазина, чтобы повысить конверсию и средний чек заказа' (RICE - 56.0);\n",
    "- № 0 - 'Добавить два новых канала привлечения трафика, что позволит привлекать на 30% больше пользователей' (RICE - 40.0).\n",
    "\n",
    "Разница приоритетов можно объяснить формулой расчета: отличие RICE от ICE в том, что при расчете RICE в знаменатель добавляют параметр Reach, показывающий охват пользователей при введение каких-либо изменений. Чем больше охват - тем выше RICE. Восьмая гипотеза, имеющая самое большое значение ICE, не вошла в топ RICE из-за слишком маленьких охватов. Это логично, т.к. гипотеза связана не со всеми пользователями, а только с теми, кто в ближайшие дни отмечает день рождения."
   ]
  },
  {
   "cell_type": "markdown",
   "metadata": {},
   "source": [
    "# Анализ A/B теста.\n",
    "# Расчет кумулятивных значений.\n",
    "\n",
    "В самом начале анализа мы изучили процентное соотношение групп А и В. Все пользователи (датафрейм 'visitors') изначально делили на две группы по 50%, но группа В совершала больше покупок (53.5% против 45.5% в датафрейме 'orders').\n",
    "\n",
    "Построив график выручки по группам, мы увидели устойчивый рост выручки в обеих группах. Группа А расла стабильно, в группе В наблюдался всплеск и прирост выручки 18 августа. Возможно, это связано с нововведениями, которые простимулировали покупателей и увеличили конверсию. Либо в заказ попали аномально дорогие позиции.\n",
    "\n",
    "Построив график среднего чека по группе мы увидели схожую картину: 18 августа был резкий скачок среднего чека в группе В. Это так же могло быть связно с покупкой аномально дорогих товаров.\n",
    "\n",
    "Средний чек группы А постепенно рос к концу наблюдений, средний чек группы В постепенно снижался, возможно, нужно больше данных для стабилизации.\n",
    "\n",
    "Построив график относительного различия среднего чека, мы так же увидели скачки на графике, которые можно объяснить появление аномально дорогих выбросов.\n",
    "\n",
    "Построив график кумулятивного среднего количества заказов на посетителя по группам, мы увидели скачок конверсии группы А в самом начале наблюдений, потом - снижение и выход на плато. Схожая ситуация наблюдалась в группе В - несколько скачков в самом начале, потом конверсия зафиксировалось.\n",
    "\n",
    "Построив график относительного изменения кумулятивного среднего количества заказов на посетителя по группам, в начале наблюдений мы увидели, что конверсия группы В была неустойчивая, затем стала расти. К концу наблюдений конверсия немного стабилизировалась, но \"хвост\" графика намекает на возможность роста. Возможно, нужно больше данных для стабилизации."
   ]
  },
  {
   "cell_type": "markdown",
   "metadata": {},
   "source": [
    "# Точечная оценка и перцентили\n",
    "\n",
    "На точечном графике количества заказов на пользователя мы увидели, что большая часть покупателей совершила одну-две покупки, скученную группу точек мы так же наблюдаем на отметке в три покупки. 95 перцентиль \"проходит\" по двум покупкам.\n",
    "\n",
    "95 и 99 перцентили стоимости заказа \"проходят\" по 28000 руб. и 58233.2 руб., соотвественно. Таких пользователей в датасете мы выделили 57 человек."
   ]
  },
  {
   "cell_type": "markdown",
   "metadata": {},
   "source": [
    "# Гипотезы\n",
    "\n",
    "Мы проверяли два предположения - о различии в среднем количестве заказов на посетителя между группами и о различиях в среднем чеке заказа между группами. Оба предположения проверялись на \"сырых\" и \"очищенных\" от аномальных значений данных.\n",
    "\n",
    "На основе первого предположения о различии в среднем количестве заказов на посетителя между группами, мы сформулировали две гипотезы:\n",
    "\n",
    "- H0: x̅1 = x̅2\n",
    "Основная: статистически значимых различий в среднем количестве заказов между группами нет.\n",
    "\n",
    "- и H1: x̅1 ≠ x̅2\n",
    "Альтернативная: статистически значимые различия в среднем количестве заказов между группами есть.\n",
    "\n",
    "И на основе второго предположения (о различиях в среднем чеке заказа между группами):\n",
    "\n",
    "- H0: x̅1 = x̅2\n",
    "Основная: статистически значимых различий в в среднем чеке заказа между группами нет.\n",
    "\n",
    "- и H1: x̅1 ≠ x̅2 Альтернативная: статистически значимые различия в в среднем чеке заказа между группами есть."
   ]
  },
  {
   "cell_type": "markdown",
   "metadata": {},
   "source": [
    "<b>Гипотеза № 1</b> - Н0: статистически значимых различий в среднем количестве заказов между группами нет \n",
    "\n",
    "В ходе проверки гипотезы № 1 на \"сырых\" данных мы получили значение p-value равное 0.017, что меньше принятого нами alpha (0.05), значит мы можем <b>отвергнуть нулевую гипотезу</b>.\n",
    "\n",
    "Относительное изменение в среднем количестве заказов в группе B по отношению к группе A (на \"сырых\" данные) составляет 13.8%.\n",
    "\n",
    "Мы провели те же расчеты на \"очищенных данных\", убрав из выборки \"аномальных пользователей\". Полученный p-value составил 0.018, что так же меньше alpha, значит мы все еще можем <b>отвергнуть нулевую гипотезу</b>. Статистически значимых различий в среднем количестве заказов между группами есть.\n",
    "\n",
    "Относительное изменение в среднем количестве заказов в группе B по отношению к группе A (на \"очищенных\" данных) составляет 14.8%.\n",
    "\n",
    "Выросший процент относительного изменения может нам подсказать, что аномально большое (больше трех) количество заказов было в группе А.\n",
    "\n",
    "<b>Гипотеза № 2</b> - Н0: статистически значимых различий в среднем чеке заказа между группами нет.\n",
    "\n",
    "Полученное на \"сырых\" данных p-value (0.729) больше, чем установленное нами alpha, значит, мы <b>не можем отвегнуть нулевую гипотезу </b> в пользу альтернативной, значит, статистически значимых различий  в среднем чеке заказа между группами нет.\n",
    "\n",
    "Относительное изменение в чеке заказа в группе B по отношению к группе A (на \"сырых\" данные) составляет 25.9%.\n",
    "\n",
    "Проведем те же самые расчеты на \"очищенных данных\", убрав из выборки \"аномальных пользователей\". Полученный p-value составляет 0.958, что так же больше alpha, значит мы все еще <b>не можем отвегнуть нулевую гипотезу </b> в пользу альтернативной.\n",
    "\n",
    "Относительное изменение в среднем количестве заказов в группе B по отношению к группе A (на \"очищенных\" данных) составляет 14.8%.\n",
    "\n",
    "Относительное изменение просело и составило - -2%.  Аномально дорогие заказы попали в группу В, что мы уже видели на графиках из раздела [\"Расчет кумулятивных значений\"](#cumulative)"
   ]
  },
  {
   "cell_type": "markdown",
   "metadata": {},
   "source": [
    "<a id=\"decision\"> </a>\n",
    "# Решение:"
   ]
  },
  {
   "cell_type": "markdown",
   "metadata": {},
   "source": [
    "1. статистически значимые различия в среднем количестве заказов есть:\n",
    "- p-value на сырых данных - 0.017\n",
    "- p-value на очищенных данных - 0.018\n",
    "\n",
    "относительное изменение в среднем количестве заказов в группе B по отношению к группе A: \n",
    "- сырые данные - 13.8%\n",
    "- очищенные данные - 14.8%\n",
    "\n",
    "\n",
    "2. статистически значимых различий в среднем чеке заказа между группами нет: \n",
    "- p-value на сырых данных - 0.729\n",
    "- p-value на очищенных данных - 0.958\n",
    "\n",
    "относительное изменение в среднем чеке заказа в группе B по отношению к группе A: \n",
    "- сырые данные - 25.9%\n",
    "- очищенные данные -2%\n",
    "\n",
    "<b>Группа В статистически лучше группы А. Тест стоит остановить.</b>"
   ]
  },
  {
   "cell_type": "code",
   "execution_count": null,
   "metadata": {},
   "outputs": [],
   "source": []
  }
 ],
 "metadata": {
  "ExecuteTimeLog": [
   {
    "duration": 925,
    "start_time": "2023-04-13T08:52:18.223Z"
   },
   {
    "duration": 177,
    "start_time": "2023-04-13T08:53:20.511Z"
   },
   {
    "duration": 3,
    "start_time": "2023-04-13T08:55:39.324Z"
   },
   {
    "duration": 12,
    "start_time": "2023-04-13T08:59:33.155Z"
   },
   {
    "duration": 14,
    "start_time": "2023-04-13T08:59:43.823Z"
   },
   {
    "duration": 8,
    "start_time": "2023-04-13T08:59:57.887Z"
   },
   {
    "duration": 95,
    "start_time": "2023-04-13T09:02:39.418Z"
   },
   {
    "duration": 5,
    "start_time": "2023-04-13T09:02:47.919Z"
   },
   {
    "duration": 3,
    "start_time": "2023-04-13T09:02:56.433Z"
   },
   {
    "duration": 5,
    "start_time": "2023-04-13T09:02:59.859Z"
   },
   {
    "duration": 3,
    "start_time": "2023-04-13T09:03:15.873Z"
   },
   {
    "duration": 9,
    "start_time": "2023-04-13T09:03:26.020Z"
   },
   {
    "duration": 3,
    "start_time": "2023-04-13T09:03:35.552Z"
   },
   {
    "duration": 3,
    "start_time": "2023-04-13T09:03:48.476Z"
   },
   {
    "duration": 12,
    "start_time": "2023-04-13T09:03:49.227Z"
   },
   {
    "duration": 11,
    "start_time": "2023-04-13T09:03:58.906Z"
   },
   {
    "duration": 9,
    "start_time": "2023-04-13T09:04:53.385Z"
   },
   {
    "duration": 8,
    "start_time": "2023-04-13T09:05:07.838Z"
   },
   {
    "duration": 7,
    "start_time": "2023-04-13T09:05:36.101Z"
   },
   {
    "duration": 4,
    "start_time": "2023-04-13T09:05:39.822Z"
   },
   {
    "duration": 4,
    "start_time": "2023-04-13T09:05:57.262Z"
   },
   {
    "duration": 3,
    "start_time": "2023-04-13T09:05:57.703Z"
   },
   {
    "duration": 9,
    "start_time": "2023-04-13T09:06:00.199Z"
   },
   {
    "duration": 13,
    "start_time": "2023-04-13T09:07:26.947Z"
   },
   {
    "duration": 7,
    "start_time": "2023-04-13T09:07:32.111Z"
   },
   {
    "duration": 5,
    "start_time": "2023-04-13T09:07:37.777Z"
   },
   {
    "duration": 15,
    "start_time": "2023-04-13T09:07:57.275Z"
   },
   {
    "duration": 9,
    "start_time": "2023-04-13T09:08:11.538Z"
   },
   {
    "duration": 5,
    "start_time": "2023-04-13T09:08:15.718Z"
   },
   {
    "duration": 4,
    "start_time": "2023-04-13T09:08:21.125Z"
   },
   {
    "duration": 4,
    "start_time": "2023-04-13T09:08:40.156Z"
   },
   {
    "duration": 4,
    "start_time": "2023-04-13T09:09:09.839Z"
   },
   {
    "duration": 12,
    "start_time": "2023-04-13T09:09:31.912Z"
   },
   {
    "duration": 5,
    "start_time": "2023-04-13T09:09:46.714Z"
   },
   {
    "duration": 4,
    "start_time": "2023-04-13T09:09:56.139Z"
   },
   {
    "duration": 5,
    "start_time": "2023-04-13T09:10:02.481Z"
   },
   {
    "duration": 8,
    "start_time": "2023-04-13T09:10:10.790Z"
   },
   {
    "duration": 9,
    "start_time": "2023-04-13T09:11:41.919Z"
   },
   {
    "duration": 8,
    "start_time": "2023-04-13T09:11:50.254Z"
   },
   {
    "duration": 5,
    "start_time": "2023-04-13T09:12:00.208Z"
   },
   {
    "duration": 6,
    "start_time": "2023-04-13T09:12:07.972Z"
   },
   {
    "duration": 8,
    "start_time": "2023-04-13T09:12:19.064Z"
   },
   {
    "duration": 5,
    "start_time": "2023-04-13T09:14:31.316Z"
   },
   {
    "duration": 5,
    "start_time": "2023-04-13T09:14:39.585Z"
   },
   {
    "duration": 750,
    "start_time": "2023-04-13T09:14:48.457Z"
   },
   {
    "duration": 60,
    "start_time": "2023-04-13T09:15:41.422Z"
   },
   {
    "duration": 11,
    "start_time": "2023-04-13T09:15:44.475Z"
   },
   {
    "duration": 8,
    "start_time": "2023-04-13T09:15:44.773Z"
   },
   {
    "duration": 5,
    "start_time": "2023-04-13T09:15:45.165Z"
   },
   {
    "duration": 4,
    "start_time": "2023-04-13T09:16:10.530Z"
   },
   {
    "duration": 4,
    "start_time": "2023-04-13T09:16:19.050Z"
   },
   {
    "duration": 3,
    "start_time": "2023-04-13T09:16:49.438Z"
   },
   {
    "duration": 10,
    "start_time": "2023-04-13T09:17:04.104Z"
   },
   {
    "duration": 802,
    "start_time": "2023-04-13T09:18:36.747Z"
   },
   {
    "duration": 817,
    "start_time": "2023-04-13T09:18:49.230Z"
   },
   {
    "duration": 854,
    "start_time": "2023-04-13T09:20:00.151Z"
   },
   {
    "duration": 3,
    "start_time": "2023-04-13T09:20:24.706Z"
   },
   {
    "duration": 4,
    "start_time": "2023-04-13T09:20:27.124Z"
   },
   {
    "duration": 9,
    "start_time": "2023-04-13T09:20:50.532Z"
   },
   {
    "duration": 9,
    "start_time": "2023-04-13T09:21:14.124Z"
   },
   {
    "duration": 3,
    "start_time": "2023-04-13T09:21:24.576Z"
   },
   {
    "duration": 4,
    "start_time": "2023-04-13T09:21:26.236Z"
   },
   {
    "duration": 3,
    "start_time": "2023-04-13T09:22:14.952Z"
   },
   {
    "duration": 4,
    "start_time": "2023-04-13T09:22:16.507Z"
   },
   {
    "duration": 3,
    "start_time": "2023-04-13T09:22:30.476Z"
   },
   {
    "duration": 4,
    "start_time": "2023-04-13T09:22:31.305Z"
   },
   {
    "duration": 5,
    "start_time": "2023-04-13T09:23:38.112Z"
   },
   {
    "duration": 6,
    "start_time": "2023-04-13T09:24:00.886Z"
   },
   {
    "duration": 5,
    "start_time": "2023-04-13T09:30:46.285Z"
   },
   {
    "duration": 10,
    "start_time": "2023-04-13T09:30:52.666Z"
   },
   {
    "duration": 64,
    "start_time": "2023-04-13T09:32:33.448Z"
   },
   {
    "duration": 221,
    "start_time": "2023-04-13T09:32:43.285Z"
   },
   {
    "duration": 5,
    "start_time": "2023-04-13T09:32:55.077Z"
   },
   {
    "duration": 11,
    "start_time": "2023-04-13T09:33:01.107Z"
   },
   {
    "duration": 13,
    "start_time": "2023-04-13T09:33:44.810Z"
   },
   {
    "duration": 11,
    "start_time": "2023-04-13T09:33:55.915Z"
   },
   {
    "duration": 11,
    "start_time": "2023-04-13T09:34:09.937Z"
   },
   {
    "duration": 11,
    "start_time": "2023-04-13T09:34:28.691Z"
   },
   {
    "duration": 67,
    "start_time": "2023-04-13T09:35:40.146Z"
   },
   {
    "duration": 13,
    "start_time": "2023-04-13T09:35:45.997Z"
   },
   {
    "duration": 13,
    "start_time": "2023-04-13T09:35:59.701Z"
   },
   {
    "duration": 11,
    "start_time": "2023-04-13T09:36:12.378Z"
   },
   {
    "duration": 11,
    "start_time": "2023-04-13T09:36:24.798Z"
   },
   {
    "duration": 12,
    "start_time": "2023-04-13T09:36:46.950Z"
   },
   {
    "duration": 11,
    "start_time": "2023-04-13T09:36:54.377Z"
   },
   {
    "duration": 13,
    "start_time": "2023-04-13T09:37:31.244Z"
   },
   {
    "duration": 63,
    "start_time": "2023-04-13T09:37:35.324Z"
   },
   {
    "duration": 11,
    "start_time": "2023-04-13T09:37:36.300Z"
   },
   {
    "duration": 8,
    "start_time": "2023-04-13T09:37:36.479Z"
   },
   {
    "duration": 3,
    "start_time": "2023-04-13T09:37:36.620Z"
   },
   {
    "duration": 5,
    "start_time": "2023-04-13T09:37:36.818Z"
   },
   {
    "duration": 12,
    "start_time": "2023-04-13T09:37:38.040Z"
   },
   {
    "duration": 13,
    "start_time": "2023-04-13T09:39:08.706Z"
   },
   {
    "duration": 12,
    "start_time": "2023-04-13T09:47:30.323Z"
   },
   {
    "duration": 11,
    "start_time": "2023-04-13T09:47:55.134Z"
   },
   {
    "duration": 10,
    "start_time": "2023-04-13T09:47:56.035Z"
   },
   {
    "duration": 4,
    "start_time": "2023-04-13T09:56:04.181Z"
   },
   {
    "duration": 13,
    "start_time": "2023-04-13T09:56:28.536Z"
   },
   {
    "duration": 3,
    "start_time": "2023-04-13T09:57:27.076Z"
   },
   {
    "duration": 3,
    "start_time": "2023-04-13T09:57:48.285Z"
   },
   {
    "duration": 14,
    "start_time": "2023-04-13T09:58:56.080Z"
   },
   {
    "duration": 12,
    "start_time": "2023-04-13T09:59:06.115Z"
   },
   {
    "duration": 12,
    "start_time": "2023-04-13T09:59:24.054Z"
   },
   {
    "duration": 230,
    "start_time": "2023-04-13T09:59:28.073Z"
   },
   {
    "duration": 3,
    "start_time": "2023-04-13T09:59:45.952Z"
   },
   {
    "duration": 11,
    "start_time": "2023-04-13T09:59:57.714Z"
   },
   {
    "duration": 60,
    "start_time": "2023-04-13T10:00:07.641Z"
   },
   {
    "duration": 11,
    "start_time": "2023-04-13T10:00:09.346Z"
   },
   {
    "duration": 11,
    "start_time": "2023-04-13T10:00:09.520Z"
   },
   {
    "duration": 11,
    "start_time": "2023-04-13T10:00:09.671Z"
   },
   {
    "duration": 7,
    "start_time": "2023-04-13T10:00:10.591Z"
   },
   {
    "duration": 3,
    "start_time": "2023-04-13T10:00:10.953Z"
   },
   {
    "duration": 5,
    "start_time": "2023-04-13T10:00:11.549Z"
   },
   {
    "duration": 12,
    "start_time": "2023-04-13T10:00:13.745Z"
   },
   {
    "duration": 16,
    "start_time": "2023-04-13T10:00:16.370Z"
   },
   {
    "duration": 22,
    "start_time": "2023-04-13T10:00:19.666Z"
   },
   {
    "duration": 10,
    "start_time": "2023-04-13T10:00:23.182Z"
   },
   {
    "duration": 212,
    "start_time": "2023-04-13T10:01:05.210Z"
   },
   {
    "duration": 282,
    "start_time": "2023-04-13T10:01:10.071Z"
   },
   {
    "duration": 61,
    "start_time": "2023-04-13T10:01:39.914Z"
   },
   {
    "duration": 4,
    "start_time": "2023-04-13T10:01:43.815Z"
   },
   {
    "duration": 12,
    "start_time": "2023-04-13T10:01:45.142Z"
   },
   {
    "duration": 8,
    "start_time": "2023-04-13T10:01:46.585Z"
   },
   {
    "duration": 4,
    "start_time": "2023-04-13T10:02:07.931Z"
   },
   {
    "duration": 8,
    "start_time": "2023-04-13T10:02:08.441Z"
   },
   {
    "duration": 6,
    "start_time": "2023-04-13T10:04:12.686Z"
   },
   {
    "duration": 6,
    "start_time": "2023-04-13T10:04:22.924Z"
   },
   {
    "duration": 17,
    "start_time": "2023-04-13T10:20:04.229Z"
   },
   {
    "duration": 12,
    "start_time": "2023-04-13T10:21:44.151Z"
   },
   {
    "duration": 10,
    "start_time": "2023-04-13T10:21:50.105Z"
   },
   {
    "duration": 51,
    "start_time": "2023-04-13T10:27:54.525Z"
   },
   {
    "duration": 54,
    "start_time": "2023-04-13T10:28:00.456Z"
   },
   {
    "duration": 13,
    "start_time": "2023-04-13T10:28:29.802Z"
   },
   {
    "duration": 49,
    "start_time": "2023-04-13T10:28:30.602Z"
   },
   {
    "duration": 47,
    "start_time": "2023-04-13T10:28:40.420Z"
   },
   {
    "duration": 46,
    "start_time": "2023-04-13T10:28:50.307Z"
   },
   {
    "duration": 62,
    "start_time": "2023-04-13T10:29:00.090Z"
   },
   {
    "duration": 69,
    "start_time": "2023-04-13T10:29:09.006Z"
   },
   {
    "duration": 8,
    "start_time": "2023-04-13T10:30:04.582Z"
   },
   {
    "duration": 600,
    "start_time": "2023-04-13T10:31:08.707Z"
   },
   {
    "duration": 158,
    "start_time": "2023-04-13T10:31:43.303Z"
   },
   {
    "duration": 133,
    "start_time": "2023-04-13T10:35:14.911Z"
   },
   {
    "duration": 33,
    "start_time": "2023-04-13T10:36:24.072Z"
   },
   {
    "duration": 172,
    "start_time": "2023-04-13T10:36:54.327Z"
   },
   {
    "duration": 143,
    "start_time": "2023-04-13T10:37:36.912Z"
   },
   {
    "duration": 152,
    "start_time": "2023-04-13T10:37:47.195Z"
   },
   {
    "duration": 196,
    "start_time": "2023-04-13T10:37:59.129Z"
   },
   {
    "duration": 181,
    "start_time": "2023-04-13T10:38:11.911Z"
   },
   {
    "duration": 185,
    "start_time": "2023-04-13T10:38:34.098Z"
   },
   {
    "duration": 130,
    "start_time": "2023-04-13T10:38:41.540Z"
   },
   {
    "duration": 176,
    "start_time": "2023-04-13T10:38:56.122Z"
   },
   {
    "duration": 277,
    "start_time": "2023-04-13T10:39:14.923Z"
   },
   {
    "duration": 17,
    "start_time": "2023-04-13T10:40:12.319Z"
   },
   {
    "duration": 15,
    "start_time": "2023-04-13T10:40:43.736Z"
   },
   {
    "duration": 13,
    "start_time": "2023-04-13T10:41:55.412Z"
   },
   {
    "duration": 13,
    "start_time": "2023-04-13T10:41:58.799Z"
   },
   {
    "duration": 9,
    "start_time": "2023-04-13T10:43:49.699Z"
   },
   {
    "duration": 20,
    "start_time": "2023-04-13T10:43:54.422Z"
   },
   {
    "duration": 9,
    "start_time": "2023-04-13T10:45:10.563Z"
   },
   {
    "duration": 18,
    "start_time": "2023-04-13T10:45:11.044Z"
   },
   {
    "duration": 486,
    "start_time": "2023-04-13T11:44:41.313Z"
   },
   {
    "duration": 6,
    "start_time": "2023-04-13T11:46:02.751Z"
   },
   {
    "duration": 8,
    "start_time": "2023-04-13T11:46:15.833Z"
   },
   {
    "duration": 293,
    "start_time": "2023-04-13T11:47:04.211Z"
   },
   {
    "duration": 218,
    "start_time": "2023-04-13T11:47:10.912Z"
   },
   {
    "duration": 266,
    "start_time": "2023-04-13T11:47:47.658Z"
   },
   {
    "duration": 222,
    "start_time": "2023-04-13T11:47:52.239Z"
   },
   {
    "duration": 288,
    "start_time": "2023-04-13T11:47:56.389Z"
   },
   {
    "duration": 215,
    "start_time": "2023-04-13T11:48:00.860Z"
   },
   {
    "duration": 222,
    "start_time": "2023-04-13T11:49:55.724Z"
   },
   {
    "duration": 27,
    "start_time": "2023-04-13T11:56:46.254Z"
   },
   {
    "duration": 10,
    "start_time": "2023-04-13T11:56:51.553Z"
   },
   {
    "duration": 10,
    "start_time": "2023-04-13T11:57:01.099Z"
   },
   {
    "duration": 6,
    "start_time": "2023-04-13T11:57:07.320Z"
   },
   {
    "duration": 21,
    "start_time": "2023-04-13T11:58:21.059Z"
   },
   {
    "duration": 17,
    "start_time": "2023-04-13T11:58:35.658Z"
   },
   {
    "duration": 200,
    "start_time": "2023-04-13T11:59:52.709Z"
   },
   {
    "duration": 186,
    "start_time": "2023-04-13T12:00:16.655Z"
   },
   {
    "duration": 378,
    "start_time": "2023-04-13T12:00:21.781Z"
   },
   {
    "duration": 276,
    "start_time": "2023-04-13T12:00:28.840Z"
   },
   {
    "duration": 288,
    "start_time": "2023-04-13T12:00:38.046Z"
   },
   {
    "duration": 205,
    "start_time": "2023-04-13T12:00:54.432Z"
   },
   {
    "duration": 220,
    "start_time": "2023-04-13T12:01:01.247Z"
   },
   {
    "duration": 295,
    "start_time": "2023-04-13T12:01:06.619Z"
   },
   {
    "duration": 277,
    "start_time": "2023-04-13T12:04:14.831Z"
   },
   {
    "duration": 145,
    "start_time": "2023-04-13T12:04:15.191Z"
   },
   {
    "duration": 7,
    "start_time": "2023-04-13T12:13:17.419Z"
   },
   {
    "duration": 217,
    "start_time": "2023-04-13T12:14:29.019Z"
   },
   {
    "duration": 52,
    "start_time": "2023-04-13T12:19:43.583Z"
   },
   {
    "duration": 43,
    "start_time": "2023-04-13T12:19:49.954Z"
   },
   {
    "duration": 47,
    "start_time": "2023-04-13T12:19:53.317Z"
   },
   {
    "duration": 61,
    "start_time": "2023-04-13T12:20:07.736Z"
   },
   {
    "duration": 57,
    "start_time": "2023-04-13T12:20:24.824Z"
   },
   {
    "duration": 52,
    "start_time": "2023-04-13T12:20:33.003Z"
   },
   {
    "duration": 9,
    "start_time": "2023-04-13T12:20:48.007Z"
   },
   {
    "duration": 9,
    "start_time": "2023-04-13T12:20:52.830Z"
   },
   {
    "duration": 8,
    "start_time": "2023-04-13T12:21:01.005Z"
   },
   {
    "duration": 9,
    "start_time": "2023-04-13T12:21:03.964Z"
   },
   {
    "duration": 144,
    "start_time": "2023-04-13T12:22:13.651Z"
   },
   {
    "duration": 173,
    "start_time": "2023-04-13T12:22:31.205Z"
   },
   {
    "duration": 159,
    "start_time": "2023-04-13T12:23:36.355Z"
   },
   {
    "duration": 4,
    "start_time": "2023-04-13T12:24:03.756Z"
   },
   {
    "duration": 53,
    "start_time": "2023-04-13T12:24:29.185Z"
   },
   {
    "duration": 220,
    "start_time": "2023-04-13T12:24:37.170Z"
   },
   {
    "duration": 188,
    "start_time": "2023-04-13T12:24:46.184Z"
   },
   {
    "duration": 206,
    "start_time": "2023-04-13T12:25:03.912Z"
   },
   {
    "duration": 49,
    "start_time": "2023-04-13T12:25:32.192Z"
   },
   {
    "duration": 328,
    "start_time": "2023-04-13T12:25:37.684Z"
   },
   {
    "duration": 320,
    "start_time": "2023-04-13T12:25:53.265Z"
   },
   {
    "duration": 324,
    "start_time": "2023-04-13T12:26:41.989Z"
   },
   {
    "duration": 286,
    "start_time": "2023-04-13T12:26:48.733Z"
   },
   {
    "duration": 10,
    "start_time": "2023-04-13T12:38:12.424Z"
   },
   {
    "duration": 128,
    "start_time": "2023-04-13T12:38:19.055Z"
   },
   {
    "duration": 222,
    "start_time": "2023-04-13T12:38:53.321Z"
   },
   {
    "duration": 15,
    "start_time": "2023-04-13T12:40:34.258Z"
   },
   {
    "duration": 127,
    "start_time": "2023-04-13T12:41:22.743Z"
   },
   {
    "duration": 12,
    "start_time": "2023-04-13T12:44:51.260Z"
   },
   {
    "duration": 7,
    "start_time": "2023-04-13T12:45:20.546Z"
   },
   {
    "duration": 14,
    "start_time": "2023-04-13T12:49:35.174Z"
   },
   {
    "duration": 85,
    "start_time": "2023-04-13T12:50:13.856Z"
   },
   {
    "duration": 14,
    "start_time": "2023-04-13T12:50:20.585Z"
   },
   {
    "duration": 75,
    "start_time": "2023-04-13T12:50:28.189Z"
   },
   {
    "duration": 13,
    "start_time": "2023-04-13T12:50:42.523Z"
   },
   {
    "duration": 62,
    "start_time": "2023-04-13T12:50:49.474Z"
   },
   {
    "duration": 10,
    "start_time": "2023-04-13T12:51:24.954Z"
   },
   {
    "duration": 7,
    "start_time": "2023-04-13T12:51:30.523Z"
   },
   {
    "duration": 6,
    "start_time": "2023-04-13T12:51:52.354Z"
   },
   {
    "duration": 6,
    "start_time": "2023-04-13T12:51:58.518Z"
   },
   {
    "duration": 4,
    "start_time": "2023-04-13T12:52:08.913Z"
   },
   {
    "duration": 5,
    "start_time": "2023-04-13T12:52:15.015Z"
   },
   {
    "duration": 7,
    "start_time": "2023-04-13T12:52:24.263Z"
   },
   {
    "duration": 11,
    "start_time": "2023-04-13T12:52:39.223Z"
   },
   {
    "duration": 12,
    "start_time": "2023-04-13T12:52:59.086Z"
   },
   {
    "duration": 9,
    "start_time": "2023-04-13T12:53:19.419Z"
   },
   {
    "duration": 679,
    "start_time": "2023-04-13T12:53:40.910Z"
   },
   {
    "duration": 8,
    "start_time": "2023-04-13T12:53:50.800Z"
   },
   {
    "duration": 60,
    "start_time": "2023-04-13T12:53:58.200Z"
   },
   {
    "duration": 58,
    "start_time": "2023-04-13T12:54:02.088Z"
   },
   {
    "duration": 114,
    "start_time": "2023-04-13T12:54:12.457Z"
   },
   {
    "duration": 117,
    "start_time": "2023-04-13T12:54:37.955Z"
   },
   {
    "duration": 5,
    "start_time": "2023-04-13T12:55:05.967Z"
   },
   {
    "duration": 113,
    "start_time": "2023-04-13T12:55:06.469Z"
   },
   {
    "duration": 5,
    "start_time": "2023-04-13T12:55:26.773Z"
   },
   {
    "duration": 142,
    "start_time": "2023-04-13T12:56:31.106Z"
   },
   {
    "duration": 4,
    "start_time": "2023-04-13T12:56:46.116Z"
   },
   {
    "duration": 124,
    "start_time": "2023-04-13T12:58:43.289Z"
   },
   {
    "duration": 5,
    "start_time": "2023-04-13T12:58:54.417Z"
   },
   {
    "duration": 134,
    "start_time": "2023-04-13T13:02:55.805Z"
   },
   {
    "duration": 4,
    "start_time": "2023-04-13T13:03:18.081Z"
   },
   {
    "duration": 5,
    "start_time": "2023-04-13T13:03:23.764Z"
   },
   {
    "duration": 4,
    "start_time": "2023-04-13T13:27:11.671Z"
   },
   {
    "duration": 10,
    "start_time": "2023-04-13T13:27:19.928Z"
   },
   {
    "duration": 7,
    "start_time": "2023-04-13T13:28:31.392Z"
   },
   {
    "duration": 49,
    "start_time": "2023-04-13T13:32:08.513Z"
   },
   {
    "duration": 9,
    "start_time": "2023-04-13T13:32:18.830Z"
   },
   {
    "duration": 8,
    "start_time": "2023-04-13T13:32:24.544Z"
   },
   {
    "duration": 7,
    "start_time": "2023-04-13T13:32:33.686Z"
   },
   {
    "duration": 70,
    "start_time": "2023-04-13T13:33:02.285Z"
   },
   {
    "duration": 88,
    "start_time": "2023-04-13T13:33:16.201Z"
   },
   {
    "duration": 9,
    "start_time": "2023-04-13T13:33:27.840Z"
   },
   {
    "duration": 87,
    "start_time": "2023-04-13T13:34:09.810Z"
   },
   {
    "duration": 92,
    "start_time": "2023-04-13T13:34:17.769Z"
   },
   {
    "duration": 8,
    "start_time": "2023-04-13T13:38:08.109Z"
   },
   {
    "duration": 14,
    "start_time": "2023-04-13T13:40:17.870Z"
   },
   {
    "duration": 27,
    "start_time": "2023-04-13T13:40:42.631Z"
   },
   {
    "duration": 8,
    "start_time": "2023-04-13T13:40:51.649Z"
   },
   {
    "duration": 26,
    "start_time": "2023-04-13T13:42:08.502Z"
   },
   {
    "duration": 51,
    "start_time": "2023-04-13T13:45:16.368Z"
   },
   {
    "duration": 70,
    "start_time": "2023-04-13T13:45:37.074Z"
   },
   {
    "duration": 103,
    "start_time": "2023-04-13T13:45:44.582Z"
   },
   {
    "duration": 9,
    "start_time": "2023-04-13T13:45:57.071Z"
   },
   {
    "duration": 147,
    "start_time": "2023-04-13T13:46:49.377Z"
   },
   {
    "duration": 16,
    "start_time": "2023-04-13T13:51:22.921Z"
   },
   {
    "duration": 21,
    "start_time": "2023-04-13T13:52:01.532Z"
   },
   {
    "duration": 11,
    "start_time": "2023-04-13T13:52:09.562Z"
   },
   {
    "duration": 10,
    "start_time": "2023-04-13T13:52:32.578Z"
   },
   {
    "duration": 75,
    "start_time": "2023-04-13T13:59:54.442Z"
   },
   {
    "duration": 140,
    "start_time": "2023-04-13T14:02:06.667Z"
   },
   {
    "duration": 10,
    "start_time": "2023-04-13T14:02:11.693Z"
   },
   {
    "duration": 155,
    "start_time": "2023-04-13T14:02:52.026Z"
   },
   {
    "duration": 7,
    "start_time": "2023-04-13T14:06:41.933Z"
   },
   {
    "duration": 7,
    "start_time": "2023-04-13T14:06:55.703Z"
   },
   {
    "duration": 9,
    "start_time": "2023-04-13T14:08:04.448Z"
   },
   {
    "duration": 25,
    "start_time": "2023-04-13T14:08:13.893Z"
   },
   {
    "duration": 5,
    "start_time": "2023-04-13T14:15:58.323Z"
   },
   {
    "duration": 4,
    "start_time": "2023-04-13T14:16:01.923Z"
   },
   {
    "duration": 5,
    "start_time": "2023-04-13T14:16:08.906Z"
   },
   {
    "duration": 6,
    "start_time": "2023-04-13T14:16:13.634Z"
   },
   {
    "duration": 6,
    "start_time": "2023-04-13T14:21:18.997Z"
   },
   {
    "duration": 7,
    "start_time": "2023-04-13T14:21:29.855Z"
   },
   {
    "duration": 6,
    "start_time": "2023-04-13T14:22:24.753Z"
   },
   {
    "duration": 8,
    "start_time": "2023-04-13T14:22:56.002Z"
   },
   {
    "duration": 10,
    "start_time": "2023-04-13T14:23:17.585Z"
   },
   {
    "duration": 4,
    "start_time": "2023-04-13T14:23:22.641Z"
   },
   {
    "duration": 4,
    "start_time": "2023-04-13T14:23:45.783Z"
   },
   {
    "duration": 3,
    "start_time": "2023-04-13T14:25:51.967Z"
   },
   {
    "duration": 10,
    "start_time": "2023-04-13T14:28:42.819Z"
   },
   {
    "duration": 9,
    "start_time": "2023-04-13T14:28:58.462Z"
   },
   {
    "duration": 6,
    "start_time": "2023-04-13T14:29:00.222Z"
   },
   {
    "duration": 5,
    "start_time": "2023-04-13T14:29:33.169Z"
   },
   {
    "duration": 6,
    "start_time": "2023-04-13T14:29:56.503Z"
   },
   {
    "duration": 22,
    "start_time": "2023-04-13T14:30:31.616Z"
   },
   {
    "duration": 8,
    "start_time": "2023-04-13T14:41:22.044Z"
   },
   {
    "duration": 3,
    "start_time": "2023-04-13T14:41:43.888Z"
   },
   {
    "duration": 9,
    "start_time": "2023-04-13T14:41:51.005Z"
   },
   {
    "duration": 8,
    "start_time": "2023-04-13T15:08:49.138Z"
   },
   {
    "duration": 10,
    "start_time": "2023-04-13T15:09:44.808Z"
   },
   {
    "duration": 10,
    "start_time": "2023-04-13T15:09:50.339Z"
   },
   {
    "duration": 9,
    "start_time": "2023-04-13T15:12:34.688Z"
   },
   {
    "duration": 9,
    "start_time": "2023-04-13T15:12:38.465Z"
   },
   {
    "duration": 7,
    "start_time": "2023-04-13T15:13:07.263Z"
   },
   {
    "duration": 16,
    "start_time": "2023-04-13T15:14:17.297Z"
   },
   {
    "duration": 20,
    "start_time": "2023-04-13T15:14:22.989Z"
   },
   {
    "duration": 21,
    "start_time": "2023-04-13T15:14:32.276Z"
   },
   {
    "duration": 23,
    "start_time": "2023-04-13T15:49:29.480Z"
   },
   {
    "duration": 22,
    "start_time": "2023-04-13T15:49:42.137Z"
   },
   {
    "duration": 33,
    "start_time": "2023-04-13T15:50:30.769Z"
   },
   {
    "duration": 24,
    "start_time": "2023-04-13T15:51:07.564Z"
   },
   {
    "duration": 22,
    "start_time": "2023-04-13T15:51:23.371Z"
   },
   {
    "duration": 21,
    "start_time": "2023-04-13T15:52:40.252Z"
   },
   {
    "duration": 21,
    "start_time": "2023-04-13T15:53:01.880Z"
   },
   {
    "duration": 21,
    "start_time": "2023-04-13T15:53:14.107Z"
   },
   {
    "duration": 20,
    "start_time": "2023-04-13T15:53:19.158Z"
   },
   {
    "duration": 51,
    "start_time": "2023-04-13T15:54:25.101Z"
   },
   {
    "duration": 43,
    "start_time": "2023-04-13T15:54:35.834Z"
   },
   {
    "duration": 47,
    "start_time": "2023-04-13T15:54:44.714Z"
   },
   {
    "duration": 52,
    "start_time": "2023-04-13T15:54:51.505Z"
   },
   {
    "duration": 8,
    "start_time": "2023-04-13T15:55:11.615Z"
   },
   {
    "duration": 21,
    "start_time": "2023-04-13T15:55:31.857Z"
   },
   {
    "duration": 23,
    "start_time": "2023-04-13T15:55:41.431Z"
   },
   {
    "duration": 8,
    "start_time": "2023-04-13T15:55:58.290Z"
   },
   {
    "duration": 8,
    "start_time": "2023-04-13T15:56:20.954Z"
   },
   {
    "duration": 11,
    "start_time": "2023-04-13T15:57:00.640Z"
   },
   {
    "duration": 11,
    "start_time": "2023-04-13T16:00:55.143Z"
   },
   {
    "duration": 10,
    "start_time": "2023-04-13T16:02:55.842Z"
   },
   {
    "duration": 15,
    "start_time": "2023-04-13T16:05:51.921Z"
   },
   {
    "duration": 14,
    "start_time": "2023-04-13T16:06:14.588Z"
   },
   {
    "duration": 14,
    "start_time": "2023-04-13T16:06:29.862Z"
   },
   {
    "duration": 54,
    "start_time": "2023-04-14T08:39:10.885Z"
   },
   {
    "duration": 1213,
    "start_time": "2023-04-14T08:39:15.303Z"
   },
   {
    "duration": 248,
    "start_time": "2023-04-14T08:39:16.518Z"
   },
   {
    "duration": 13,
    "start_time": "2023-04-14T08:39:16.767Z"
   },
   {
    "duration": 10,
    "start_time": "2023-04-14T08:39:16.782Z"
   },
   {
    "duration": 10,
    "start_time": "2023-04-14T08:39:17.390Z"
   },
   {
    "duration": 12,
    "start_time": "2023-04-14T08:39:20.000Z"
   },
   {
    "duration": 3,
    "start_time": "2023-04-14T08:39:20.706Z"
   },
   {
    "duration": 5,
    "start_time": "2023-04-14T08:39:21.574Z"
   },
   {
    "duration": 12,
    "start_time": "2023-04-14T08:39:23.956Z"
   },
   {
    "duration": 13,
    "start_time": "2023-04-14T08:42:33.287Z"
   },
   {
    "duration": 11,
    "start_time": "2023-04-14T08:42:37.702Z"
   },
   {
    "duration": 3,
    "start_time": "2023-04-14T08:49:52.088Z"
   },
   {
    "duration": 13,
    "start_time": "2023-04-14T08:49:52.616Z"
   },
   {
    "duration": 8,
    "start_time": "2023-04-14T08:49:53.526Z"
   },
   {
    "duration": 4,
    "start_time": "2023-04-14T08:49:54.785Z"
   },
   {
    "duration": 9,
    "start_time": "2023-04-14T08:49:57.755Z"
   },
   {
    "duration": 6,
    "start_time": "2023-04-14T08:49:59.250Z"
   },
   {
    "duration": 7,
    "start_time": "2023-04-14T08:50:00.552Z"
   },
   {
    "duration": 10,
    "start_time": "2023-04-14T08:52:58.404Z"
   },
   {
    "duration": 131,
    "start_time": "2023-04-14T08:54:01.114Z"
   },
   {
    "duration": 63,
    "start_time": "2023-04-14T09:11:46.603Z"
   },
   {
    "duration": 3,
    "start_time": "2023-04-14T09:11:57.216Z"
   },
   {
    "duration": 87,
    "start_time": "2023-04-14T09:11:57.744Z"
   },
   {
    "duration": 16,
    "start_time": "2023-04-14T09:11:57.883Z"
   },
   {
    "duration": 11,
    "start_time": "2023-04-14T09:11:58.067Z"
   },
   {
    "duration": 12,
    "start_time": "2023-04-14T09:11:58.217Z"
   },
   {
    "duration": 7,
    "start_time": "2023-04-14T09:11:58.856Z"
   },
   {
    "duration": 5,
    "start_time": "2023-04-14T09:11:59.020Z"
   },
   {
    "duration": 7,
    "start_time": "2023-04-14T09:11:59.200Z"
   },
   {
    "duration": 12,
    "start_time": "2023-04-14T09:11:59.727Z"
   },
   {
    "duration": 17,
    "start_time": "2023-04-14T09:12:00.317Z"
   },
   {
    "duration": 4,
    "start_time": "2023-04-14T09:12:01.134Z"
   },
   {
    "duration": 16,
    "start_time": "2023-04-14T09:12:01.169Z"
   },
   {
    "duration": 9,
    "start_time": "2023-04-14T09:12:01.430Z"
   },
   {
    "duration": 12,
    "start_time": "2023-04-14T09:12:01.691Z"
   },
   {
    "duration": 9,
    "start_time": "2023-04-14T09:12:01.932Z"
   },
   {
    "duration": 9,
    "start_time": "2023-04-14T09:12:02.205Z"
   },
   {
    "duration": 7,
    "start_time": "2023-04-14T09:12:02.434Z"
   },
   {
    "duration": 14,
    "start_time": "2023-04-14T09:12:03.133Z"
   },
   {
    "duration": 199,
    "start_time": "2023-04-14T09:12:03.352Z"
   },
   {
    "duration": 184,
    "start_time": "2023-04-14T09:12:03.555Z"
   },
   {
    "duration": 8,
    "start_time": "2023-04-14T09:12:04.025Z"
   },
   {
    "duration": 9,
    "start_time": "2023-04-14T09:12:04.459Z"
   },
   {
    "duration": 287,
    "start_time": "2023-04-14T09:12:04.972Z"
   },
   {
    "duration": 284,
    "start_time": "2023-04-14T09:12:09.560Z"
   },
   {
    "duration": 12,
    "start_time": "2023-04-14T09:12:12.331Z"
   },
   {
    "duration": 442,
    "start_time": "2023-04-14T09:12:12.889Z"
   },
   {
    "duration": 8,
    "start_time": "2023-04-14T09:12:16.436Z"
   },
   {
    "duration": 329,
    "start_time": "2023-04-14T09:12:17.102Z"
   },
   {
    "duration": 250,
    "start_time": "2023-04-14T09:12:43.789Z"
   },
   {
    "duration": 230,
    "start_time": "2023-04-14T09:12:55.594Z"
   },
   {
    "duration": 212,
    "start_time": "2023-04-14T09:13:12.508Z"
   },
   {
    "duration": 283,
    "start_time": "2023-04-14T09:13:34.027Z"
   },
   {
    "duration": 209,
    "start_time": "2023-04-14T09:14:00.349Z"
   },
   {
    "duration": 285,
    "start_time": "2023-04-14T09:14:33.769Z"
   },
   {
    "duration": 180,
    "start_time": "2023-04-14T09:15:17.838Z"
   },
   {
    "duration": 276,
    "start_time": "2023-04-14T09:15:25.454Z"
   },
   {
    "duration": 196,
    "start_time": "2023-04-14T09:15:42.037Z"
   },
   {
    "duration": 185,
    "start_time": "2023-04-14T09:18:29.260Z"
   },
   {
    "duration": 61,
    "start_time": "2023-04-14T09:20:28.434Z"
   },
   {
    "duration": 11,
    "start_time": "2023-04-14T09:20:32.192Z"
   },
   {
    "duration": 8,
    "start_time": "2023-04-14T09:20:37.903Z"
   },
   {
    "duration": 322,
    "start_time": "2023-04-14T09:20:38.383Z"
   },
   {
    "duration": 308,
    "start_time": "2023-04-14T09:20:43.092Z"
   },
   {
    "duration": 271,
    "start_time": "2023-04-14T09:20:47.817Z"
   },
   {
    "duration": 241,
    "start_time": "2023-04-14T09:36:31.488Z"
   },
   {
    "duration": 430,
    "start_time": "2023-04-14T09:36:38.157Z"
   },
   {
    "duration": 239,
    "start_time": "2023-04-14T09:36:41.742Z"
   },
   {
    "duration": 9,
    "start_time": "2023-04-14T09:37:08.738Z"
   },
   {
    "duration": 9,
    "start_time": "2023-04-14T09:37:22.369Z"
   },
   {
    "duration": 11,
    "start_time": "2023-04-14T09:37:42.616Z"
   },
   {
    "duration": 10,
    "start_time": "2023-04-14T09:37:45.534Z"
   },
   {
    "duration": 6,
    "start_time": "2023-04-14T09:42:49.220Z"
   },
   {
    "duration": 114,
    "start_time": "2023-04-14T09:42:49.712Z"
   },
   {
    "duration": 38,
    "start_time": "2023-04-14T09:42:49.894Z"
   },
   {
    "duration": 113,
    "start_time": "2023-04-14T09:42:50.088Z"
   },
   {
    "duration": 20,
    "start_time": "2023-04-14T09:42:50.272Z"
   },
   {
    "duration": 10,
    "start_time": "2023-04-14T09:42:50.450Z"
   },
   {
    "duration": 151,
    "start_time": "2023-04-14T09:42:50.625Z"
   },
   {
    "duration": 7,
    "start_time": "2023-04-14T09:42:51.009Z"
   },
   {
    "duration": 28,
    "start_time": "2023-04-14T09:42:51.428Z"
   },
   {
    "duration": 13,
    "start_time": "2023-04-14T09:42:51.821Z"
   },
   {
    "duration": 12,
    "start_time": "2023-04-14T09:42:52.192Z"
   },
   {
    "duration": 7,
    "start_time": "2023-04-14T09:42:52.376Z"
   },
   {
    "duration": 19,
    "start_time": "2023-04-14T09:42:52.569Z"
   },
   {
    "duration": 11,
    "start_time": "2023-04-14T09:42:53.716Z"
   },
   {
    "duration": 15,
    "start_time": "2023-04-14T09:42:55.015Z"
   },
   {
    "duration": 1058,
    "start_time": "2023-04-14T12:12:43.684Z"
   },
   {
    "duration": 129,
    "start_time": "2023-04-14T12:12:44.744Z"
   },
   {
    "duration": 16,
    "start_time": "2023-04-14T12:12:44.876Z"
   },
   {
    "duration": 35,
    "start_time": "2023-04-14T12:12:44.894Z"
   },
   {
    "duration": 31,
    "start_time": "2023-04-14T12:12:44.932Z"
   },
   {
    "duration": 27,
    "start_time": "2023-04-14T12:12:44.965Z"
   },
   {
    "duration": 5,
    "start_time": "2023-04-14T12:12:44.995Z"
   },
   {
    "duration": 59,
    "start_time": "2023-04-14T12:12:45.002Z"
   },
   {
    "duration": 33,
    "start_time": "2023-04-14T12:12:45.064Z"
   },
   {
    "duration": 13,
    "start_time": "2023-04-14T12:12:45.100Z"
   },
   {
    "duration": 11,
    "start_time": "2023-04-14T12:12:45.115Z"
   },
   {
    "duration": 25,
    "start_time": "2023-04-14T12:12:45.128Z"
   },
   {
    "duration": 16,
    "start_time": "2023-04-14T12:12:45.155Z"
   },
   {
    "duration": 13,
    "start_time": "2023-04-14T12:12:45.173Z"
   },
   {
    "duration": 16,
    "start_time": "2023-04-14T12:12:45.187Z"
   },
   {
    "duration": 10,
    "start_time": "2023-04-14T12:12:45.205Z"
   },
   {
    "duration": 10,
    "start_time": "2023-04-14T12:12:45.216Z"
   },
   {
    "duration": 35,
    "start_time": "2023-04-14T12:12:45.227Z"
   },
   {
    "duration": 172,
    "start_time": "2023-04-14T12:12:45.264Z"
   },
   {
    "duration": 128,
    "start_time": "2023-04-14T12:12:45.437Z"
   },
   {
    "duration": 6,
    "start_time": "2023-04-14T12:12:45.566Z"
   },
   {
    "duration": 14,
    "start_time": "2023-04-14T12:12:45.582Z"
   },
   {
    "duration": 287,
    "start_time": "2023-04-14T12:12:45.598Z"
   },
   {
    "duration": 203,
    "start_time": "2023-04-14T12:12:45.887Z"
   },
   {
    "duration": 12,
    "start_time": "2023-04-14T12:12:46.092Z"
   },
   {
    "duration": 277,
    "start_time": "2023-04-14T12:12:46.107Z"
   },
   {
    "duration": 7,
    "start_time": "2023-04-14T12:12:46.385Z"
   },
   {
    "duration": 208,
    "start_time": "2023-04-14T12:12:46.395Z"
   },
   {
    "duration": 7,
    "start_time": "2023-04-14T12:12:46.605Z"
   },
   {
    "duration": 272,
    "start_time": "2023-04-14T12:12:46.614Z"
   },
   {
    "duration": 128,
    "start_time": "2023-04-14T12:12:46.888Z"
   },
   {
    "duration": 4,
    "start_time": "2023-04-14T12:12:47.018Z"
   },
   {
    "duration": 142,
    "start_time": "2023-04-14T12:12:47.024Z"
   },
   {
    "duration": 6,
    "start_time": "2023-04-14T12:12:47.168Z"
   },
   {
    "duration": 8,
    "start_time": "2023-04-14T12:12:47.183Z"
   },
   {
    "duration": 104,
    "start_time": "2023-04-14T12:12:47.192Z"
   },
   {
    "duration": 27,
    "start_time": "2023-04-14T12:12:47.298Z"
   },
   {
    "duration": 100,
    "start_time": "2023-04-14T12:12:47.327Z"
   },
   {
    "duration": 26,
    "start_time": "2023-04-14T12:12:47.429Z"
   },
   {
    "duration": 29,
    "start_time": "2023-04-14T12:12:47.456Z"
   },
   {
    "duration": 135,
    "start_time": "2023-04-14T12:12:47.487Z"
   },
   {
    "duration": 7,
    "start_time": "2023-04-14T12:12:47.624Z"
   },
   {
    "duration": 54,
    "start_time": "2023-04-14T12:12:47.632Z"
   },
   {
    "duration": 10,
    "start_time": "2023-04-14T12:12:47.688Z"
   },
   {
    "duration": 25,
    "start_time": "2023-04-14T12:12:47.699Z"
   },
   {
    "duration": 21,
    "start_time": "2023-04-14T12:12:47.725Z"
   },
   {
    "duration": 53,
    "start_time": "2023-04-14T12:12:47.747Z"
   },
   {
    "duration": 12,
    "start_time": "2023-04-14T12:12:47.802Z"
   },
   {
    "duration": 13,
    "start_time": "2023-04-14T12:12:47.816Z"
   },
   {
    "duration": 1631,
    "start_time": "2023-04-14T13:15:26.496Z"
   },
   {
    "duration": 447,
    "start_time": "2023-04-14T13:15:28.128Z"
   },
   {
    "duration": 32,
    "start_time": "2023-04-14T13:15:30.571Z"
   },
   {
    "duration": 15,
    "start_time": "2023-04-14T13:15:31.214Z"
   },
   {
    "duration": 14,
    "start_time": "2023-04-14T13:15:31.905Z"
   },
   {
    "duration": 33,
    "start_time": "2023-04-14T13:15:51.434Z"
   },
   {
    "duration": 2083,
    "start_time": "2023-04-14T13:16:55.895Z"
   },
   {
    "duration": 9,
    "start_time": "2023-04-14T13:17:05.446Z"
   },
   {
    "duration": 100,
    "start_time": "2023-04-14T13:17:05.946Z"
   },
   {
    "duration": 10,
    "start_time": "2023-04-14T13:17:06.214Z"
   },
   {
    "duration": 9,
    "start_time": "2023-04-14T13:17:06.606Z"
   },
   {
    "duration": 10,
    "start_time": "2023-04-14T13:17:06.915Z"
   },
   {
    "duration": 10,
    "start_time": "2023-04-14T13:17:08.132Z"
   },
   {
    "duration": 7,
    "start_time": "2023-04-14T13:17:10.001Z"
   },
   {
    "duration": 15,
    "start_time": "2023-04-14T13:17:10.780Z"
   },
   {
    "duration": 16,
    "start_time": "2023-04-14T13:17:12.925Z"
   },
   {
    "duration": 24,
    "start_time": "2023-04-14T13:17:27.481Z"
   },
   {
    "duration": 7,
    "start_time": "2023-04-14T13:23:30.824Z"
   },
   {
    "duration": 18,
    "start_time": "2023-04-14T13:23:46.679Z"
   },
   {
    "duration": 9,
    "start_time": "2023-04-14T13:23:52.491Z"
   },
   {
    "duration": 6,
    "start_time": "2023-04-14T13:24:00.910Z"
   },
   {
    "duration": 7,
    "start_time": "2023-04-14T13:24:17.818Z"
   },
   {
    "duration": 10,
    "start_time": "2023-04-14T13:24:39.917Z"
   },
   {
    "duration": 8,
    "start_time": "2023-04-14T13:26:08.015Z"
   },
   {
    "duration": 11,
    "start_time": "2023-04-14T13:26:12.596Z"
   },
   {
    "duration": 6,
    "start_time": "2023-04-14T13:26:34.096Z"
   },
   {
    "duration": 5,
    "start_time": "2023-04-14T13:27:28.001Z"
   },
   {
    "duration": 5,
    "start_time": "2023-04-14T13:27:44.418Z"
   },
   {
    "duration": 103,
    "start_time": "2023-04-14T13:29:08.438Z"
   },
   {
    "duration": 8,
    "start_time": "2023-04-14T13:29:34.177Z"
   },
   {
    "duration": 6,
    "start_time": "2023-04-14T13:29:41.205Z"
   },
   {
    "duration": 18,
    "start_time": "2023-04-14T13:30:52.079Z"
   },
   {
    "duration": 28,
    "start_time": "2023-04-14T13:33:36.667Z"
   },
   {
    "duration": 10,
    "start_time": "2023-04-14T13:33:57.800Z"
   },
   {
    "duration": 17,
    "start_time": "2023-04-14T13:34:57.468Z"
   },
   {
    "duration": 43,
    "start_time": "2023-04-14T13:36:42.247Z"
   },
   {
    "duration": 3,
    "start_time": "2023-04-14T13:38:36.616Z"
   },
   {
    "duration": 26,
    "start_time": "2023-04-14T13:39:16.383Z"
   },
   {
    "duration": 19,
    "start_time": "2023-04-14T13:39:24.310Z"
   },
   {
    "duration": 19,
    "start_time": "2023-04-14T13:39:34.406Z"
   },
   {
    "duration": 29,
    "start_time": "2023-04-14T13:39:51.092Z"
   },
   {
    "duration": 149,
    "start_time": "2023-04-14T13:43:25.696Z"
   },
   {
    "duration": 11,
    "start_time": "2023-04-14T13:43:34.208Z"
   },
   {
    "duration": 9,
    "start_time": "2023-04-14T13:44:21.502Z"
   },
   {
    "duration": 6,
    "start_time": "2023-04-14T13:44:46.478Z"
   },
   {
    "duration": 8,
    "start_time": "2023-04-14T13:44:56.781Z"
   },
   {
    "duration": 13,
    "start_time": "2023-04-14T13:45:11.384Z"
   },
   {
    "duration": 7,
    "start_time": "2023-04-14T13:45:13.798Z"
   },
   {
    "duration": 19,
    "start_time": "2023-04-14T13:45:50.869Z"
   },
   {
    "duration": 10,
    "start_time": "2023-04-14T13:46:30.682Z"
   },
   {
    "duration": 14,
    "start_time": "2023-04-14T13:48:08.995Z"
   },
   {
    "duration": 26,
    "start_time": "2023-04-14T13:48:13.988Z"
   },
   {
    "duration": 10,
    "start_time": "2023-04-14T13:48:25.402Z"
   },
   {
    "duration": 12,
    "start_time": "2023-04-14T13:50:47.394Z"
   },
   {
    "duration": 14,
    "start_time": "2023-04-14T13:51:19.989Z"
   },
   {
    "duration": 25,
    "start_time": "2023-04-14T13:51:24.472Z"
   },
   {
    "duration": 12,
    "start_time": "2023-04-14T13:53:15.975Z"
   },
   {
    "duration": 9,
    "start_time": "2023-04-14T13:53:49.175Z"
   },
   {
    "duration": 331,
    "start_time": "2023-04-14T13:54:07.299Z"
   },
   {
    "duration": 392,
    "start_time": "2023-04-14T13:55:25.613Z"
   },
   {
    "duration": 444,
    "start_time": "2023-04-14T13:55:35.586Z"
   },
   {
    "duration": 368,
    "start_time": "2023-04-14T13:56:31.934Z"
   },
   {
    "duration": 404,
    "start_time": "2023-04-14T13:56:44.116Z"
   },
   {
    "duration": 337,
    "start_time": "2023-04-14T13:57:16.887Z"
   },
   {
    "duration": 443,
    "start_time": "2023-04-14T13:57:59.644Z"
   },
   {
    "duration": 416,
    "start_time": "2023-04-14T13:58:06.519Z"
   },
   {
    "duration": 341,
    "start_time": "2023-04-14T13:58:25.296Z"
   },
   {
    "duration": 12,
    "start_time": "2023-04-14T13:59:17.331Z"
   },
   {
    "duration": 9,
    "start_time": "2023-04-14T13:59:47.524Z"
   },
   {
    "duration": 10,
    "start_time": "2023-04-14T14:00:03.419Z"
   },
   {
    "duration": 10,
    "start_time": "2023-04-14T14:00:22.422Z"
   },
   {
    "duration": 15,
    "start_time": "2023-04-14T14:00:58.714Z"
   },
   {
    "duration": 7,
    "start_time": "2023-04-14T14:01:38.380Z"
   },
   {
    "duration": 20,
    "start_time": "2023-04-14T14:01:38.776Z"
   },
   {
    "duration": 12,
    "start_time": "2023-04-14T14:01:39.189Z"
   },
   {
    "duration": 14,
    "start_time": "2023-04-14T14:01:39.860Z"
   },
   {
    "duration": 27,
    "start_time": "2023-04-14T14:01:40.343Z"
   },
   {
    "duration": 5,
    "start_time": "2023-04-14T14:01:42.092Z"
   },
   {
    "duration": 508,
    "start_time": "2023-04-14T14:01:42.522Z"
   },
   {
    "duration": 9,
    "start_time": "2023-04-14T14:01:44.078Z"
   },
   {
    "duration": 20,
    "start_time": "2023-04-14T14:01:51.772Z"
   },
   {
    "duration": 227,
    "start_time": "2023-04-14T14:02:33.545Z"
   },
   {
    "duration": 11,
    "start_time": "2023-04-14T14:02:37.894Z"
   },
   {
    "duration": 196,
    "start_time": "2023-04-14T14:02:48.242Z"
   },
   {
    "duration": 261,
    "start_time": "2023-04-14T14:03:50.268Z"
   },
   {
    "duration": 7,
    "start_time": "2023-04-14T14:05:53.339Z"
   },
   {
    "duration": 8,
    "start_time": "2023-04-14T14:06:00.699Z"
   },
   {
    "duration": 1596,
    "start_time": "2023-04-14T14:07:52.502Z"
   },
   {
    "duration": 14,
    "start_time": "2023-04-14T14:08:02.528Z"
   },
   {
    "duration": 13,
    "start_time": "2023-04-14T14:08:17.719Z"
   },
   {
    "duration": 24,
    "start_time": "2023-04-14T14:08:26.342Z"
   },
   {
    "duration": 9,
    "start_time": "2023-04-14T14:08:34.080Z"
   },
   {
    "duration": 72,
    "start_time": "2023-04-14T14:10:09.174Z"
   },
   {
    "duration": 4,
    "start_time": "2023-04-14T14:14:07.342Z"
   },
   {
    "duration": 5,
    "start_time": "2023-04-14T14:14:18.585Z"
   },
   {
    "duration": 3,
    "start_time": "2023-04-14T14:16:11.695Z"
   },
   {
    "duration": 20,
    "start_time": "2023-04-14T14:16:12.988Z"
   },
   {
    "duration": 4,
    "start_time": "2023-04-14T14:16:20.826Z"
   },
   {
    "duration": 5,
    "start_time": "2023-04-14T14:16:22.206Z"
   },
   {
    "duration": 19,
    "start_time": "2023-04-14T14:16:22.592Z"
   },
   {
    "duration": 3,
    "start_time": "2023-04-14T14:17:22.473Z"
   },
   {
    "duration": 26,
    "start_time": "2023-04-14T14:17:22.943Z"
   },
   {
    "duration": 4,
    "start_time": "2023-04-14T14:19:13.285Z"
   },
   {
    "duration": 14,
    "start_time": "2023-04-14T14:19:17.714Z"
   },
   {
    "duration": 7,
    "start_time": "2023-04-14T14:19:32.129Z"
   },
   {
    "duration": 22,
    "start_time": "2023-04-14T14:20:10.542Z"
   },
   {
    "duration": 6,
    "start_time": "2023-04-14T14:20:53.290Z"
   },
   {
    "duration": 4,
    "start_time": "2023-04-14T14:21:00.771Z"
   },
   {
    "duration": 15,
    "start_time": "2023-04-14T14:21:07.540Z"
   },
   {
    "duration": 7,
    "start_time": "2023-04-14T14:21:25.127Z"
   },
   {
    "duration": 13,
    "start_time": "2023-04-14T14:21:36.024Z"
   },
   {
    "duration": 11,
    "start_time": "2023-04-14T14:21:43.074Z"
   },
   {
    "duration": 12,
    "start_time": "2023-04-14T14:21:51.070Z"
   },
   {
    "duration": 16,
    "start_time": "2023-04-14T14:22:01.539Z"
   },
   {
    "duration": 12,
    "start_time": "2023-04-14T14:22:35.507Z"
   },
   {
    "duration": 25,
    "start_time": "2023-04-14T14:22:53.969Z"
   },
   {
    "duration": 15,
    "start_time": "2023-04-14T14:23:28.877Z"
   },
   {
    "duration": 5,
    "start_time": "2023-04-14T14:23:41.524Z"
   },
   {
    "duration": 16,
    "start_time": "2023-04-14T14:24:24.582Z"
   },
   {
    "duration": 17,
    "start_time": "2023-04-14T14:24:38.692Z"
   },
   {
    "duration": 178,
    "start_time": "2023-04-14T14:25:21.630Z"
   },
   {
    "duration": 8,
    "start_time": "2023-04-14T14:25:35.580Z"
   },
   {
    "duration": 15,
    "start_time": "2023-04-14T14:25:47.409Z"
   },
   {
    "duration": 14,
    "start_time": "2023-04-14T14:26:03.491Z"
   },
   {
    "duration": 7,
    "start_time": "2023-04-14T14:26:48.174Z"
   },
   {
    "duration": 6,
    "start_time": "2023-04-14T14:27:48.727Z"
   },
   {
    "duration": 16,
    "start_time": "2023-04-14T14:28:06.376Z"
   },
   {
    "duration": 15,
    "start_time": "2023-04-14T14:28:30.515Z"
   },
   {
    "duration": 17,
    "start_time": "2023-04-14T14:29:30.392Z"
   },
   {
    "duration": 9,
    "start_time": "2023-04-14T14:30:20.611Z"
   },
   {
    "duration": 8,
    "start_time": "2023-04-14T14:31:32.908Z"
   },
   {
    "duration": 7,
    "start_time": "2023-04-14T14:31:38.573Z"
   },
   {
    "duration": 9,
    "start_time": "2023-04-14T14:31:41.724Z"
   },
   {
    "duration": 10,
    "start_time": "2023-04-14T14:32:03.989Z"
   },
   {
    "duration": 9,
    "start_time": "2023-04-14T14:32:06.795Z"
   },
   {
    "duration": 5,
    "start_time": "2023-04-14T14:32:07.818Z"
   },
   {
    "duration": 8,
    "start_time": "2023-04-14T14:32:10.908Z"
   },
   {
    "duration": 17,
    "start_time": "2023-04-14T14:32:19.104Z"
   },
   {
    "duration": 10,
    "start_time": "2023-04-14T14:32:24.012Z"
   },
   {
    "duration": 9,
    "start_time": "2023-04-14T14:33:45.110Z"
   },
   {
    "duration": 7,
    "start_time": "2023-04-14T14:33:54.318Z"
   },
   {
    "duration": 6,
    "start_time": "2023-04-14T14:33:56.104Z"
   },
   {
    "duration": 3,
    "start_time": "2023-04-14T14:34:25.169Z"
   },
   {
    "duration": 16,
    "start_time": "2023-04-14T14:34:28.050Z"
   },
   {
    "duration": 3,
    "start_time": "2023-04-14T14:34:32.287Z"
   },
   {
    "duration": 3,
    "start_time": "2023-04-14T14:34:36.987Z"
   },
   {
    "duration": 8,
    "start_time": "2023-04-14T14:35:11.217Z"
   },
   {
    "duration": 8,
    "start_time": "2023-04-14T14:35:32.994Z"
   },
   {
    "duration": 4,
    "start_time": "2023-04-14T14:35:37.100Z"
   },
   {
    "duration": 4,
    "start_time": "2023-04-14T14:35:45.312Z"
   },
   {
    "duration": 17,
    "start_time": "2023-04-14T14:35:52.854Z"
   },
   {
    "duration": 9,
    "start_time": "2023-04-14T14:36:06.914Z"
   },
   {
    "duration": 4,
    "start_time": "2023-04-14T14:36:12.897Z"
   },
   {
    "duration": 10,
    "start_time": "2023-04-14T14:36:17.030Z"
   },
   {
    "duration": 190,
    "start_time": "2023-04-14T14:36:39.662Z"
   },
   {
    "duration": 11,
    "start_time": "2023-04-14T14:36:43.329Z"
   },
   {
    "duration": 9,
    "start_time": "2023-04-14T14:37:57.973Z"
   },
   {
    "duration": 29,
    "start_time": "2023-04-14T14:39:34.538Z"
   },
   {
    "duration": 13,
    "start_time": "2023-04-14T14:40:13.510Z"
   },
   {
    "duration": 2787,
    "start_time": "2023-04-14T14:43:30.237Z"
   },
   {
    "duration": 2108,
    "start_time": "2023-04-14T14:43:46.272Z"
   },
   {
    "duration": 9,
    "start_time": "2023-04-14T14:43:58.518Z"
   },
   {
    "duration": 17,
    "start_time": "2023-04-14T14:44:05.499Z"
   },
   {
    "duration": 30,
    "start_time": "2023-04-14T14:44:31.247Z"
   },
   {
    "duration": 10,
    "start_time": "2023-04-14T14:46:03.889Z"
   },
   {
    "duration": 12,
    "start_time": "2023-04-14T14:46:16.438Z"
   },
   {
    "duration": 374,
    "start_time": "2023-04-14T14:46:25.446Z"
   },
   {
    "duration": 11,
    "start_time": "2023-04-14T14:46:30.991Z"
   },
   {
    "duration": 18,
    "start_time": "2023-04-14T14:47:14.057Z"
   },
   {
    "duration": 20,
    "start_time": "2023-04-14T14:47:17.771Z"
   },
   {
    "duration": 11,
    "start_time": "2023-04-14T14:47:39.949Z"
   },
   {
    "duration": 4,
    "start_time": "2023-04-14T14:53:03.529Z"
   },
   {
    "duration": 8,
    "start_time": "2023-04-14T14:54:45.014Z"
   },
   {
    "duration": 36,
    "start_time": "2023-04-14T14:54:48.535Z"
   },
   {
    "duration": 16,
    "start_time": "2023-04-14T14:55:23.001Z"
   },
   {
    "duration": 9,
    "start_time": "2023-04-14T14:55:28.231Z"
   },
   {
    "duration": 25,
    "start_time": "2023-04-14T14:55:56.282Z"
   },
   {
    "duration": 14,
    "start_time": "2023-04-14T14:56:18.192Z"
   },
   {
    "duration": 8,
    "start_time": "2023-04-14T14:56:33.015Z"
   },
   {
    "duration": 21,
    "start_time": "2023-04-14T14:56:36.977Z"
   },
   {
    "duration": 12,
    "start_time": "2023-04-14T14:57:19.774Z"
   },
   {
    "duration": 11,
    "start_time": "2023-04-14T14:57:27.042Z"
   },
   {
    "duration": 9,
    "start_time": "2023-04-14T14:57:58.908Z"
   },
   {
    "duration": 7,
    "start_time": "2023-04-14T14:59:25.779Z"
   },
   {
    "duration": 8,
    "start_time": "2023-04-14T14:59:47.468Z"
   },
   {
    "duration": 22,
    "start_time": "2023-04-14T14:59:51.372Z"
   },
   {
    "duration": 12,
    "start_time": "2023-04-14T15:00:10.231Z"
   },
   {
    "duration": 22,
    "start_time": "2023-04-14T15:01:09.303Z"
   },
   {
    "duration": 14,
    "start_time": "2023-04-14T15:01:36.106Z"
   },
   {
    "duration": 17,
    "start_time": "2023-04-14T15:01:39.904Z"
   },
   {
    "duration": 20,
    "start_time": "2023-04-14T15:02:29.277Z"
   },
   {
    "duration": 12,
    "start_time": "2023-04-14T15:02:34.592Z"
   },
   {
    "duration": 100,
    "start_time": "2023-04-14T15:03:42.940Z"
   },
   {
    "duration": 14,
    "start_time": "2023-04-14T15:04:00.173Z"
   },
   {
    "duration": 19,
    "start_time": "2023-04-14T15:06:24.272Z"
   },
   {
    "duration": 17,
    "start_time": "2023-04-14T15:06:31.144Z"
   },
   {
    "duration": 183,
    "start_time": "2023-04-14T15:06:31.579Z"
   },
   {
    "duration": 130,
    "start_time": "2023-04-14T15:06:31.979Z"
   },
   {
    "duration": 11,
    "start_time": "2023-04-14T15:06:32.865Z"
   },
   {
    "duration": 5,
    "start_time": "2023-04-14T15:06:33.395Z"
   },
   {
    "duration": 10,
    "start_time": "2023-04-14T15:06:42.867Z"
   },
   {
    "duration": 6,
    "start_time": "2023-04-14T15:06:48.205Z"
   },
   {
    "duration": 7,
    "start_time": "2023-04-14T15:06:53.624Z"
   },
   {
    "duration": 7,
    "start_time": "2023-04-14T15:06:57.314Z"
   },
   {
    "duration": 9,
    "start_time": "2023-04-14T15:07:14.692Z"
   },
   {
    "duration": 6,
    "start_time": "2023-04-14T15:07:51.776Z"
   },
   {
    "duration": 10,
    "start_time": "2023-04-14T15:08:14.267Z"
   },
   {
    "duration": 243,
    "start_time": "2023-04-14T15:08:49.536Z"
   },
   {
    "duration": 269,
    "start_time": "2023-04-14T15:09:24.489Z"
   },
   {
    "duration": 267,
    "start_time": "2023-04-14T15:10:10.194Z"
   },
   {
    "duration": 300,
    "start_time": "2023-04-14T15:10:33.580Z"
   },
   {
    "duration": 293,
    "start_time": "2023-04-14T15:10:41.586Z"
   },
   {
    "duration": 278,
    "start_time": "2023-04-14T15:10:46.902Z"
   },
   {
    "duration": 319,
    "start_time": "2023-04-14T15:10:54.248Z"
   },
   {
    "duration": 390,
    "start_time": "2023-04-14T15:11:30.437Z"
   },
   {
    "duration": 19,
    "start_time": "2023-04-14T15:12:49.127Z"
   },
   {
    "duration": 14,
    "start_time": "2023-04-14T15:12:59.228Z"
   },
   {
    "duration": 433,
    "start_time": "2023-04-14T15:12:59.778Z"
   },
   {
    "duration": 332,
    "start_time": "2023-04-14T15:13:07.185Z"
   },
   {
    "duration": 392,
    "start_time": "2023-04-14T15:13:34.184Z"
   },
   {
    "duration": 378,
    "start_time": "2023-04-14T15:14:00.030Z"
   },
   {
    "duration": 195,
    "start_time": "2023-04-14T15:14:41.606Z"
   },
   {
    "duration": 319,
    "start_time": "2023-04-14T15:14:47.801Z"
   },
   {
    "duration": 13,
    "start_time": "2023-04-14T15:15:47.205Z"
   },
   {
    "duration": 7,
    "start_time": "2023-04-14T15:15:50.214Z"
   },
   {
    "duration": 279,
    "start_time": "2023-04-14T15:15:50.662Z"
   },
   {
    "duration": 284,
    "start_time": "2023-04-14T15:16:06.124Z"
   },
   {
    "duration": 8,
    "start_time": "2023-04-14T15:16:19.427Z"
   },
   {
    "duration": 290,
    "start_time": "2023-04-14T15:16:19.921Z"
   },
   {
    "duration": 294,
    "start_time": "2023-04-14T15:16:57.388Z"
   },
   {
    "duration": 368,
    "start_time": "2023-04-14T15:17:48.077Z"
   },
   {
    "duration": 299,
    "start_time": "2023-04-14T15:17:50.412Z"
   },
   {
    "duration": 31,
    "start_time": "2023-04-14T15:17:51.933Z"
   },
   {
    "duration": 354,
    "start_time": "2023-04-14T15:17:55.170Z"
   },
   {
    "duration": 310,
    "start_time": "2023-04-14T15:18:07.761Z"
   },
   {
    "duration": 10,
    "start_time": "2023-04-14T15:18:10.497Z"
   },
   {
    "duration": 387,
    "start_time": "2023-04-14T15:18:15.128Z"
   },
   {
    "duration": 174,
    "start_time": "2023-04-14T15:21:09.411Z"
   },
   {
    "duration": 200,
    "start_time": "2023-04-14T15:21:49.844Z"
   },
   {
    "duration": 196,
    "start_time": "2023-04-14T15:22:08.682Z"
   },
   {
    "duration": 214,
    "start_time": "2023-04-14T15:22:46.133Z"
   },
   {
    "duration": 213,
    "start_time": "2023-04-14T15:22:59.949Z"
   },
   {
    "duration": 201,
    "start_time": "2023-04-14T15:23:11.774Z"
   },
   {
    "duration": 171,
    "start_time": "2023-04-14T15:23:25.773Z"
   },
   {
    "duration": 284,
    "start_time": "2023-04-14T15:23:31.579Z"
   },
   {
    "duration": 199,
    "start_time": "2023-04-14T15:23:53.370Z"
   },
   {
    "duration": 207,
    "start_time": "2023-04-14T15:24:06.563Z"
   },
   {
    "duration": 205,
    "start_time": "2023-04-14T15:24:18.194Z"
   },
   {
    "duration": 15,
    "start_time": "2023-04-14T15:25:04.678Z"
   },
   {
    "duration": 216,
    "start_time": "2023-04-14T15:25:09.825Z"
   },
   {
    "duration": 270,
    "start_time": "2023-04-14T15:26:02.612Z"
   },
   {
    "duration": 202,
    "start_time": "2023-04-14T15:26:19.672Z"
   },
   {
    "duration": 255,
    "start_time": "2023-04-14T15:26:26.316Z"
   },
   {
    "duration": 198,
    "start_time": "2023-04-14T15:27:10.805Z"
   },
   {
    "duration": 217,
    "start_time": "2023-04-14T15:27:26.093Z"
   },
   {
    "duration": 238,
    "start_time": "2023-04-14T15:28:13.348Z"
   },
   {
    "duration": 238,
    "start_time": "2023-04-14T15:28:26.043Z"
   },
   {
    "duration": 323,
    "start_time": "2023-04-14T15:28:35.068Z"
   },
   {
    "duration": 183,
    "start_time": "2023-04-14T15:29:07.880Z"
   },
   {
    "duration": 4,
    "start_time": "2023-04-14T15:31:03.943Z"
   }
  ],
  "kernelspec": {
   "display_name": "Python 3",
   "language": "python",
   "name": "python3"
  },
  "language_info": {
   "codemirror_mode": {
    "name": "ipython",
    "version": 3
   },
   "file_extension": ".py",
   "mimetype": "text/x-python",
   "name": "python",
   "nbconvert_exporter": "python",
   "pygments_lexer": "ipython3",
   "version": "3.8.8"
  },
  "toc": {
   "base_numbering": 1,
   "nav_menu": {},
   "number_sections": true,
   "sideBar": true,
   "skip_h1_title": true,
   "title_cell": "Table of Contents",
   "title_sidebar": "Contents",
   "toc_cell": false,
   "toc_position": {},
   "toc_section_display": true,
   "toc_window_display": false
  }
 },
 "nbformat": 4,
 "nbformat_minor": 2
}
